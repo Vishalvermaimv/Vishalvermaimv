{
  "nbformat": 4,
  "nbformat_minor": 0,
  "metadata": {
    "colab": {
      "provenance": [],
      "authorship_tag": "ABX9TyO1aQLuSFG/vUp9h7aPp0z1",
      "include_colab_link": true
    },
    "kernelspec": {
      "name": "python3",
      "display_name": "Python 3"
    },
    "language_info": {
      "name": "python"
    }
  },
  "cells": [
    {
      "cell_type": "markdown",
      "metadata": {
        "id": "view-in-github",
        "colab_type": "text"
      },
      "source": [
        "<a href=\"https://colab.research.google.com/github/Vishalvermaimv/Vishalvermaimv/blob/main/Untitled2.ipynb\" target=\"_parent\"><img src=\"https://colab.research.google.com/assets/colab-badge.svg\" alt=\"Open In Colab\"/></a>"
      ]
    },
    {
      "cell_type": "code",
      "execution_count": 5,
      "metadata": {
        "colab": {
          "base_uri": "https://localhost:8080/"
        },
        "id": "md6XkumXJg4P",
        "outputId": "4f121441-3b14-4de6-dd3c-31e516823370"
      },
      "outputs": [
        {
          "output_type": "stream",
          "name": "stdout",
          "text": [
            "enter the word: vishal\n",
            "your words is notvowel\n",
            "your words is notvowel\n",
            "your words is notvowel\n",
            "your words is notvowel\n",
            "your words is notvowel\n",
            "your words is notvowel\n"
          ]
        }
      ],
      "source": [
        "x=input(\"enter the word: \")\n",
        "y=(\"a,e,i,o,u\")\n",
        "for i in x:\n",
        "  if i==y:\n",
        "    print(\"your words is vowel\")\n",
        "  else:\n",
        "    print(\"your words is notvowel\")"
      ]
    },
    {
      "cell_type": "code",
      "source": [
        "x=int(input(\"enter the number: \"))\n",
        "y=str(x)\n",
        "print((len(y)))"
      ],
      "metadata": {
        "colab": {
          "base_uri": "https://localhost:8080/"
        },
        "id": "Mk5UKSgjMIWI",
        "outputId": "ed3801ac-b70c-4f05-efc9-4c4bb66271c3"
      },
      "execution_count": 6,
      "outputs": [
        {
          "output_type": "stream",
          "name": "stdout",
          "text": [
            "enter the number: 1234\n",
            "4\n"
          ]
        }
      ]
    },
    {
      "cell_type": "code",
      "source": [
        "x=int(input(\"enter the number: \"))\n",
        "count=0\n",
        "while x!=0:\n",
        "  x//10\n",
        "  count=count+1\n",
        "print(count)"
      ],
      "metadata": {
        "colab": {
          "base_uri": "https://localhost:8080/",
          "height": 236
        },
        "id": "y3RBI8ZaMg5b",
        "outputId": "d93d18d4-f0a2-4aba-cddf-bb77a67dd4d9"
      },
      "execution_count": 8,
      "outputs": [
        {
          "name": "stdout",
          "output_type": "stream",
          "text": [
            "enter the number: 1234\n"
          ]
        },
        {
          "output_type": "error",
          "ename": "KeyboardInterrupt",
          "evalue": "ignored",
          "traceback": [
            "\u001b[0;31m---------------------------------------------------------------------------\u001b[0m",
            "\u001b[0;31mKeyboardInterrupt\u001b[0m                         Traceback (most recent call last)",
            "\u001b[0;32m<ipython-input-8-d1d4a56ea5ab>\u001b[0m in \u001b[0;36m<module>\u001b[0;34m\u001b[0m\n\u001b[1;32m      3\u001b[0m \u001b[0;32mwhile\u001b[0m \u001b[0mx\u001b[0m\u001b[0;34m!=\u001b[0m\u001b[0;36m0\u001b[0m\u001b[0;34m:\u001b[0m\u001b[0;34m\u001b[0m\u001b[0;34m\u001b[0m\u001b[0m\n\u001b[1;32m      4\u001b[0m   \u001b[0mx\u001b[0m\u001b[0;34m//\u001b[0m\u001b[0;36m10\u001b[0m\u001b[0;34m\u001b[0m\u001b[0;34m\u001b[0m\u001b[0m\n\u001b[0;32m----> 5\u001b[0;31m   \u001b[0mcount\u001b[0m\u001b[0;34m=\u001b[0m\u001b[0mcount\u001b[0m\u001b[0;34m+\u001b[0m\u001b[0;36m1\u001b[0m\u001b[0;34m\u001b[0m\u001b[0;34m\u001b[0m\u001b[0m\n\u001b[0m\u001b[1;32m      6\u001b[0m \u001b[0mprint\u001b[0m\u001b[0;34m(\u001b[0m\u001b[0mcount\u001b[0m\u001b[0;34m)\u001b[0m\u001b[0;34m\u001b[0m\u001b[0;34m\u001b[0m\u001b[0m\n",
            "\u001b[0;31mKeyboardInterrupt\u001b[0m: "
          ]
        }
      ]
    },
    {
      "cell_type": "code",
      "source": [
        "#check the given number is armstrong or not\n",
        "num=int(input(\"enter the number\"))\n",
        "sum=0\n",
        "m=num\n",
        "while num!=0:\n",
        "  rem=num%10\n",
        "  print(\"rminder\", rem)\n",
        "  sum=sum+rem**3\n",
        "  print(\"sum value\",sum)\n",
        "  print(\"num value is\",num)\n",
        "  num=num//10\n",
        "print(num)\n",
        "print(\"original number is\",m)\n",
        "if m==sum:\n",
        "  print(\"armstrong number\")\n",
        "else:\n",
        "  print(\"not armstrong number\")"
      ],
      "metadata": {
        "colab": {
          "base_uri": "https://localhost:8080/"
        },
        "id": "yYDj-YeSRWdB",
        "outputId": "cc8e675c-394e-4e3e-ed01-51e5dbb46145"
      },
      "execution_count": 10,
      "outputs": [
        {
          "output_type": "stream",
          "name": "stdout",
          "text": [
            "enter the number153\n",
            "rminder 3\n",
            "sum value 27\n",
            "num value is 153\n",
            "rminder 5\n",
            "sum value 152\n",
            "num value is 15\n",
            "rminder 1\n",
            "sum value 153\n",
            "num value is 1\n",
            "0\n",
            "original number is 153\n",
            "armstrong number\n"
          ]
        }
      ]
    },
    {
      "cell_type": "code",
      "source": [
        "#check the given number is strong number or not\n",
        "#strong number=summation of factorial of the digit is equal to the original number\n",
        "import math\n",
        "num=int(input(\"enter the number\"))\n",
        "sum=0\n",
        "m=num\n",
        "while num!=0:\n",
        "  rem=num%10\n",
        "  print(\"reminder value is\",rem)\n",
        "  sum=sum+math.factorial(rem)\n",
        "  print(\"sum is \",sum)\n",
        "  print(\"num is \",num)\n",
        "  num=num//10\n",
        "print(num)\n",
        "print(\"original number is\",m)\n",
        "if  m==sum:\n",
        "  print(\"it is a strong number\")\n",
        "else:\n",
        "  print(\"it is not strong number\")"
      ],
      "metadata": {
        "colab": {
          "base_uri": "https://localhost:8080/"
        },
        "id": "rkjUMfySV5XK",
        "outputId": "14c6e5e4-9fd5-4ee1-d2fe-27176bc1fb3a"
      },
      "execution_count": 11,
      "outputs": [
        {
          "output_type": "stream",
          "name": "stdout",
          "text": [
            "enter the number145\n",
            "reminder value is 5\n",
            "sum is  120\n",
            "num is  145\n",
            "reminder value is 4\n",
            "sum is  144\n",
            "num is  14\n",
            "reminder value is 1\n",
            "sum is  145\n",
            "num is  1\n",
            "0\n",
            "original number is 145\n",
            "it is a strong number\n"
          ]
        }
      ]
    },
    {
      "cell_type": "code",
      "source": [
        "#find maximum element from the list\n",
        "x=[1,2,3,4,5]\n",
        "max(x)"
      ],
      "metadata": {
        "colab": {
          "base_uri": "https://localhost:8080/"
        },
        "id": "xsuyvlF1Y2I6",
        "outputId": "959856a2-d045-4756-b476-4098167610d8"
      },
      "execution_count": 12,
      "outputs": [
        {
          "output_type": "execute_result",
          "data": {
            "text/plain": [
              "5"
            ]
          },
          "metadata": {},
          "execution_count": 12
        }
      ]
    },
    {
      "cell_type": "code",
      "source": [
        "#find minimum number in given list\n",
        "x=[1,2,3,4,5]\n",
        "min(x)"
      ],
      "metadata": {
        "colab": {
          "base_uri": "https://localhost:8080/"
        },
        "id": "-BuXtJlOZ7Ou",
        "outputId": "669c1422-8a5c-4b6c-941e-a39c350368c4"
      },
      "execution_count": 13,
      "outputs": [
        {
          "output_type": "execute_result",
          "data": {
            "text/plain": [
              "1"
            ]
          },
          "metadata": {},
          "execution_count": 13
        }
      ]
    }
  ]
}