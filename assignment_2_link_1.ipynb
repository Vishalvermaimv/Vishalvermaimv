{
  "nbformat": 4,
  "nbformat_minor": 0,
  "metadata": {
    "colab": {
      "provenance": [],
      "authorship_tag": "ABX9TyMDyQbQTOdh7no2tTO7Xf9T",
      "include_colab_link": true
    },
    "kernelspec": {
      "name": "python3",
      "display_name": "Python 3"
    },
    "language_info": {
      "name": "python"
    }
  },
  "cells": [
    {
      "cell_type": "markdown",
      "metadata": {
        "id": "view-in-github",
        "colab_type": "text"
      },
      "source": [
        "<a href=\"https://colab.research.google.com/github/Vishalvermaimv/Vishalvermaimv/blob/main/assignment_2_link_1.ipynb\" target=\"_parent\"><img src=\"https://colab.research.google.com/assets/colab-badge.svg\" alt=\"Open In Colab\"/></a>"
      ]
    },
    {
      "cell_type": "code",
      "execution_count": 3,
      "metadata": {
        "colab": {
          "base_uri": "https://localhost:8080/"
        },
        "id": "TVj790Bx2XEL",
        "outputId": "9515f691-5892-4871-b8f7-f91119c7399e"
      },
      "outputs": [
        {
          "output_type": "stream",
          "name": "stdout",
          "text": [
            "50\n",
            "sorted:\n",
            "[(3, 1), (2, 1), (3, 1), (4, 1), (6, 1), (7, 1), (1, 2), (2, 2), (3, 2), (4, 2), (6, 2), (7, 2), (1, 3), (2, 3), (3, 3), (4, 3), (6, 3), (7, 3), (1, 4), (2, 4), (3, 4), (4, 4), (6, 4), (7, 4), (2, 5), (1, 5), (2, 5), (3, 5), (4, 5), (5, 5), (6, 5), (1, 6), (2, 6), (3, 6), (4, 6), (6, 6), (1, 7), (2, 7), (3, 7), (4, 7), (6, 7), (1, 8), (2, 8), (3, 8), (4, 8), (1, 9), (2, 9), (3, 9), (4, 9), (6, 9)]\n"
          ]
        }
      ],
      "source": [
        "#write a python program to get a list,\n",
        "#Sorted in increasing order by the last element in each tuple from a given list of non-empty tuple.\n",
        "def last(n):\n",
        "  return n[-1]\n",
        "def sort(a):\n",
        "  return sorted(a,key=last)\n",
        "a=[(2,5),(3,1),(1,2),(1,3),(1,4),(1,5),(1,6),(1,7),(1,8),(1,9),(2,1),(2,2),(2,3),(2,4),(2,5),(2,6),(2,7),(2,8),(2,9),(3,1),\n",
        "   (3,2),(3,3),(3,4),(3,5),(3,6),(3,7),(3,8),(3,9),(4,1),(4,2),(4,3),(4,4),(4,5),(4,6),(4,7),(4,8),(4,9),(5,5),(6,1),(6,2),\n",
        "   (6,3),(6,4),(6,5),(6,6),(6,7),(6,9),(7,1),(7,2),(7,3),(7,4)]\n",
        "print(len(a))\n",
        "print(\"sorted:\")\n",
        "print(sort(a))"
      ]
    }
  ]
}