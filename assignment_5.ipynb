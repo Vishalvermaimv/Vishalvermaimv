{
  "nbformat": 4,
  "nbformat_minor": 0,
  "metadata": {
    "colab": {
      "provenance": [],
      "authorship_tag": "ABX9TyOOa7BjdCzl2vG0F2RPVD1l",
      "include_colab_link": true
    },
    "kernelspec": {
      "name": "python3",
      "display_name": "Python 3"
    },
    "language_info": {
      "name": "python"
    }
  },
  "cells": [
    {
      "cell_type": "markdown",
      "metadata": {
        "id": "view-in-github",
        "colab_type": "text"
      },
      "source": [
        "<a href=\"https://colab.research.google.com/github/Vishalvermaimv/Vishalvermaimv/blob/main/assignment_5.ipynb\" target=\"_parent\"><img src=\"https://colab.research.google.com/assets/colab-badge.svg\" alt=\"Open In Colab\"/></a>"
      ]
    },
    {
      "cell_type": "code",
      "execution_count": 9,
      "metadata": {
        "colab": {
          "base_uri": "https://localhost:8080/"
        },
        "id": "dWhX2uXmwRmT",
        "outputId": "f0c94021-bc8f-4ffa-b919-d3dd998e50aa"
      },
      "outputs": [
        {
          "output_type": "stream",
          "name": "stdout",
          "text": [
            "Square of numbers and their sum is:  35\n"
          ]
        }
      ],
      "source": [
        "#challenge 1: square numbers and return their sum.\n",
        "#problem statement: implement a class that has three properties and a method .all these attributes (properties and methods) should be public.\n",
        "# This problem can be broken down into two tasks:\n",
        "# Task 1: implement a constructor to initialize the values of three properties:x,y and z.\n",
        "# Task 2: implement a method sqsum(),in the point class which squares x,y and z  and returns their sum.\n",
        "\n",
        "class point:\n",
        "  def __init__(self,x,y,z):\n",
        "    self.x = x\n",
        "    self.y = y\n",
        "    self.z = z\n",
        "\n",
        "  def sqsum(self): \n",
        "    return self.x**2+self.y**2+self.z**2 \n",
        "\n",
        "v=point(1,3,5)\n",
        "print(\"Square of numbers and their sum is: \",v.sqsum())\n",
        "\n"
      ]
    }
  ]
}