{
  "nbformat": 4,
  "nbformat_minor": 0,
  "metadata": {
    "colab": {
      "provenance": [],
      "collapsed_sections": [],
      "authorship_tag": "ABX9TyMLeEGGVHHxOqD6iClr6+f/",
      "include_colab_link": true
    },
    "kernelspec": {
      "name": "python3",
      "display_name": "Python 3"
    },
    "language_info": {
      "name": "python"
    }
  },
  "cells": [
    {
      "cell_type": "markdown",
      "metadata": {
        "id": "view-in-github",
        "colab_type": "text"
      },
      "source": [
        "<a href=\"https://colab.research.google.com/github/Vishalvermaimv/Vishalvermaimv/blob/main/assignment_5.ipynb\" target=\"_parent\"><img src=\"https://colab.research.google.com/assets/colab-badge.svg\" alt=\"Open In Colab\"/></a>"
      ]
    },
    {
      "cell_type": "code",
      "execution_count": null,
      "metadata": {
        "colab": {
          "base_uri": "https://localhost:8080/"
        },
        "id": "dWhX2uXmwRmT",
        "outputId": "f0c94021-bc8f-4ffa-b919-d3dd998e50aa"
      },
      "outputs": [
        {
          "output_type": "stream",
          "name": "stdout",
          "text": [
            "Square of numbers and their sum is:  35\n"
          ]
        }
      ],
      "source": [
        "#challenge 1: square numbers and return their sum.\n",
        "#problem statement: implement a class that has three properties and a method .all these attributes (properties and methods) should be public.\n",
        "# This problem can be broken down into two tasks:\n",
        "# Task 1: implement a constructor to initialize the values of three properties:x,y and z.\n",
        "# Task 2: implement a method sqsum(),in the point class which squares x,y and z  and returns their sum.\n",
        "\n",
        "class point:\n",
        "  def __init__(self,x,y,z):\n",
        "    self.x = x\n",
        "    self.y = y\n",
        "    self.z = z\n",
        "\n",
        "  def sqsum(self): \n",
        "    return self.x**2+self.y**2+self.z**2 \n",
        "\n",
        "v=point(1,3,5)\n",
        "print(\"Square of numbers and their sum is: \",v.sqsum())\n",
        "\n"
      ]
    },
    {
      "cell_type": "code",
      "source": [
        "# challenge 2: implement a calculator class.\n",
        "\n",
        "class calculator:\n",
        "  def __init__(self,num1,num2):\n",
        "    self.num1 = num1\n",
        "    self.num2 = num2\n",
        "  def add(self):\n",
        "    return self.num1+self.num2\n",
        "  def subtract(self):\n",
        "    return self.num2-self.num1\n",
        "  def multiply(self):\n",
        "    return self.num1*self.num2\n",
        "  def divide(self):\n",
        "    return self.num2/self.num1\n",
        "num1=int(input(\"enter the number: \"))\n",
        "num2=int(input(\"enter the number: \"))\n",
        "x=calculator(num1,num2)\n",
        "print(x.add())\n",
        "print(x.subtract())\n",
        "print(x.multiply())\n",
        "print(x.divide())"
      ],
      "metadata": {
        "colab": {
          "base_uri": "https://localhost:8080/"
        },
        "id": "_xX0jNCM95Rm",
        "outputId": "c86eca35-3524-48e1-bc8d-756bb0b91a31"
      },
      "execution_count": 38,
      "outputs": [
        {
          "output_type": "stream",
          "name": "stdout",
          "text": [
            "enter the number: 10\n",
            "enter the number: 94\n",
            "104\n",
            "84\n",
            "940\n",
            "9.4\n"
          ]
        }
      ]
    },
    {
      "cell_type": "code",
      "source": [
        "#challenge 3: implement the complete student class.\n",
        "\n",
        "class student:\n",
        "  def setName(self,n):\n",
        "    self.__name = n\n",
        "  def getName(self):\n",
        "    return self.__name\n",
        "\n",
        "  def setRollno(self,m):\n",
        "    self.__rollno = m\n",
        "  def getRollno(self):\n",
        "    return self.__rollno\n",
        "  def Display(self):\n",
        "    print(\"name: \",self.__name)\n",
        "    print(\"Rollno: \",self.__rollno)\n",
        "\n",
        "s = student()\n",
        "s.setName(\"vishal verma\")\n",
        "s.setRollno(7)\n",
        "s.Display()\n",
        "\n",
        "\n",
        "  "
      ],
      "metadata": {
        "colab": {
          "base_uri": "https://localhost:8080/"
        },
        "id": "hw8Rg70EH-VB",
        "outputId": "5203b8c5-2ae0-4611-a646-c653e0818981"
      },
      "execution_count": null,
      "outputs": [
        {
          "output_type": "stream",
          "name": "stdout",
          "text": [
            "name:  vishal verma\n",
            "Rollno:  7\n"
          ]
        }
      ]
    },
    {
      "cell_type": "code",
      "source": [
        "# challenge 4: In this challenge, you will implement a banking account using the concepts of inheritance.\n",
        "\n",
        "class Account:\n",
        "  def __init__(self,title=None,balance=0):\n",
        "    self.title=title\n",
        "    self.balance=balance\n",
        "    print(\"step 1 is complete: \",self.title ,self.balance)\n",
        "\n",
        "  def deposit(self,amount):\n",
        "    self.balance=self.balance+amount\n",
        "\n",
        "    print(\"balance after deposit \",self.balance)\n",
        "\n",
        "  def withdraw(self,amount):\n",
        "    self.balance=self.balance-amount\n",
        "    print(\"balance after withdrawal: \",self.balance)\n",
        "\n",
        "class savingsAccount(Account):\n",
        "  def __init__(self,title=None,balance=0,intrestrate=0):\n",
        "    super().__init__(title,balance)\n",
        "    self.intrestrate = intrestrate\n",
        "    print(\"step 2 is complete: \",self.title ,self.balance ,self.intrestrate)\n",
        "  def intrestamount(self):\n",
        "    return (self.balance*self.intrestrate)//100\n",
        "    \n",
        "Ac=Account(\"Ashish\",5000)\n",
        "Acs=savingsAccount(\"Ashish\",5000,5)"
      ],
      "metadata": {
        "id": "dlASLPNByVmi",
        "colab": {
          "base_uri": "https://localhost:8080/"
        },
        "outputId": "acb9d3ac-efbe-4193-fff2-0b0a0339ae75"
      },
      "execution_count": 51,
      "outputs": [
        {
          "output_type": "stream",
          "name": "stdout",
          "text": [
            "step 1 is complete:  Ashish 5000\n",
            "step 1 is complete:  Ashish 5000\n",
            "step 2 is complete:  Ashish 5000 5\n"
          ]
        }
      ]
    },
    {
      "cell_type": "code",
      "source": [
        "#challenge 5: handling a bank account\n",
        "#in this challenge ,you will define method for handling a bank account using concepts of inheritance.\n",
        "\n",
        "class Account:\n",
        "  def __init__(self,title=None,balance=0):\n",
        "    self.title=title\n",
        "    self.balance=balance\n",
        "  def deposit(self,amount):\n",
        "    self.balance=self.balance+amount\n",
        "    print(\"after deposite your balance is: \",self.balance)\n",
        "  def withdraw(self,amount):\n",
        "    self.balance=self.balance-amount\n",
        "    print(\"after withdrawal your balance is:\",self.balance)\n",
        "  def get_balance(self):\n",
        "    return self.balance\n",
        "\n",
        "class savingAccount(Account):\n",
        "  def __init__(self,title=None,balance=0,intrestrate=0):\n",
        "    super().__init__(title,balance)\n",
        "    self.intrestrate = intrestrate\n",
        "  def intrestAmount(self):\n",
        "    return(self.balance*self.intrestrate)//100\n",
        "\n",
        "Ad=savingAccount(\"asish\",2000)\n",
        "Ad.deposit(500)\n",
        "Ad.get_balance()\n",
        "Aw=savingAccount(\"Asish\",2000)\n",
        "Aw.withdraw(500)\n",
        "Aw.get_balance()\n",
        "si=savingAccount(\"Asish\",2000,5)\n",
        "print(\"your intrest amount is: \",si.intrestAmount())"
      ],
      "metadata": {
        "colab": {
          "base_uri": "https://localhost:8080/"
        },
        "id": "zUeSFgG5ZPBc",
        "outputId": "cb333e5d-dfa9-4486-e23a-40a4c8add361"
      },
      "execution_count": 35,
      "outputs": [
        {
          "output_type": "stream",
          "name": "stdout",
          "text": [
            "after deposite your balance is:  2500\n",
            "after withdrawal your balance is: 1500\n",
            "your intrest amount is:  100\n"
          ]
        }
      ]
    }
  ]
}