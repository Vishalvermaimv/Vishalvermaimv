{
  "nbformat": 4,
  "nbformat_minor": 0,
  "metadata": {
    "colab": {
      "provenance": [],
      "authorship_tag": "ABX9TyPpYZYiqctEOB5+yBOTnxz2",
      "include_colab_link": true
    },
    "kernelspec": {
      "name": "python3",
      "display_name": "Python 3"
    },
    "language_info": {
      "name": "python"
    }
  },
  "cells": [
    {
      "cell_type": "markdown",
      "metadata": {
        "id": "view-in-github",
        "colab_type": "text"
      },
      "source": [
        "<a href=\"https://colab.research.google.com/github/Vishalvermaimv/Vishalvermaimv/blob/main/DSA_Assignment.ipynb\" target=\"_parent\"><img src=\"https://colab.research.google.com/assets/colab-badge.svg\" alt=\"Open In Colab\"/></a>"
      ]
    },
    {
      "cell_type": "code",
      "execution_count": 9,
      "metadata": {
        "colab": {
          "base_uri": "https://localhost:8080/"
        },
        "id": "2Cr3XIXOnQRu",
        "outputId": "8795631e-efdd-4ccd-98f0-3c530cc292b3"
      },
      "outputs": [
        {
          "output_type": "stream",
          "name": "stdout",
          "text": [
            "1 8\n",
            "2 7\n",
            "3 6\n",
            "4 5\n",
            "\n"
          ]
        }
      ],
      "source": [
        "#PROBLEM FOR ASSIGNMENT :- LINEAR DATA STRUCTURES.\n",
        "# 1 PROBLEM:- WRITE A PROGRAM TO FIND ALL PAIRS OF AN INTEGER ARRAY WHOSE SUM IS EQUAL TO GIVEN NUMBER.\n",
        "def print_pairs(arr,n,sum):\n",
        "  for i in range (0,n):\n",
        "    for j in range(i+1,n):\n",
        "      if (arr[i]+arr[j] ==sum):\n",
        "        print(arr[i],arr[j])\n",
        "  return \"\"       \n",
        "arr=[1,2,3,4,5,6,7,8,9]\n",
        "n =len(arr)\n",
        "sum=9\n",
        "print(print_pairs(arr,n,sum))\n"
      ]
    },
    {
      "cell_type": "code",
      "source": [
        "# PROBLEM 2:-WRITE A PROGRAM TO REVERSE AN ARRAY IN PLACE? IN PLACE MEANS YOU CANNOT CREATE NEW ARRAY YOU HAVE TO UPDATE ORIGINAL ARRAY\n",
        "\n",
        "def reverse():\n",
        "  list1=[1,2,3,4,5,6,7,8]\n",
        "  print(\"Before Reversing List is: \",list1)\n",
        "  list1.reverse()\n",
        "  print(\"After Reversing List is: \",list1)\n",
        "  return \" \"\n",
        "print(reverse())\n",
        "  \n"
      ],
      "metadata": {
        "colab": {
          "base_uri": "https://localhost:8080/"
        },
        "id": "gRt_tsFjtKsM",
        "outputId": "a8a73335-4396-49fb-f71b-87040b5e0e15"
      },
      "execution_count": 13,
      "outputs": [
        {
          "output_type": "stream",
          "name": "stdout",
          "text": [
            "Before Reversing List is:  [1, 2, 3, 4, 5, 6, 7, 8]\n",
            "After Reversing List is:  [8, 7, 6, 5, 4, 3, 2, 1]\n",
            " \n"
          ]
        }
      ]
    },
    {
      "cell_type": "code",
      "source": [
        "# PROBLEM 3: WRITE A PROGRAM TO CHECK IF TWO STRINGS ARE A ROTATION OF EACH OTHER.\n",
        "\n",
        "def rotation(s1,s2):\n",
        "  if len(s1) !=len(s2):\n",
        "    return False\n",
        "  s3=s1+s1\n",
        "  if s2 in s3:\n",
        "    return True\n",
        "  else:\n",
        "    return False\n",
        "s1=\"helloworld\"\n",
        "s2=\"worldhello\"\n",
        "rotation(s1,s2)\n"
      ],
      "metadata": {
        "colab": {
          "base_uri": "https://localhost:8080/"
        },
        "id": "mym6R96-wjdx",
        "outputId": "f44c34fe-d1c2-44c2-bf78-b016ae17ac48"
      },
      "execution_count": 16,
      "outputs": [
        {
          "output_type": "execute_result",
          "data": {
            "text/plain": [
              "True"
            ]
          },
          "metadata": {},
          "execution_count": 16
        }
      ]
    },
    {
      "cell_type": "code",
      "source": [
        "# PROBLEM 4: WRITE A PYTHON PROGRAM TO PRINT THE FIRST NON-REPEATED CHARACTER FROM A STRING.\n",
        "\n",
        "def Non_repeating(str):\n",
        "  dict={}\n",
        "  size=len(str)\n",
        "  for i in range(size):\n",
        "    key=str[i]\n",
        "    if key not in dict:\n",
        "      dict[key]=1\n",
        "    else:\n",
        "      dict[key]=dict[key]+1\n",
        "  for key,value in dict.items():\n",
        "    if(value==1):\n",
        "      print(key)\n",
        "      break\n",
        "print(Non_repeating(\"abcdabcdv\"))"
      ],
      "metadata": {
        "colab": {
          "base_uri": "https://localhost:8080/"
        },
        "id": "x5vrEamg0j9Q",
        "outputId": "f61c32d1-67c6-4df7-8cbe-95e2c05ddc43"
      },
      "execution_count": 20,
      "outputs": [
        {
          "output_type": "stream",
          "name": "stdout",
          "text": [
            "v\n",
            "None\n"
          ]
        }
      ]
    },
    {
      "cell_type": "code",
      "source": [
        "#PROBLEM 5: READ ABOUT THE TOWER OF HANOI ALGORITHM.WRITE A PROGRAM TO IMPLEMENT IT.\n",
        "\n",
        "def TOH(numbers,start,aux,end):\n",
        "  if numbers==1:\n",
        "    print(\"Move disk 1 from road {} to rod {}\".format(start,end))\n",
        "    return\n",
        "  TOH(numbers-1,start,end,aux)\n",
        "  print(\"Move disk {} from rod {} to rod {}\".format(numbers,start,end))\n",
        "  TOH(numbers-1,aux,start,end)\n",
        "disc=3\n",
        "TOH(disc,\"A\",\"B\",\"C\")"
      ],
      "metadata": {
        "colab": {
          "base_uri": "https://localhost:8080/"
        },
        "id": "3UQbdWyv4BdF",
        "outputId": "f41fd070-49dc-4f15-e59f-93f3d6694212"
      },
      "execution_count": 22,
      "outputs": [
        {
          "output_type": "stream",
          "name": "stdout",
          "text": [
            "Move disk 1 from road A to rod C\n",
            "Move disk 2 from rod A to rod B\n",
            "Move disk 1 from road C to rod B\n",
            "Move disk 3 from rod A to rod C\n",
            "Move disk 1 from road B to rod A\n",
            "Move disk 2 from rod B to rod C\n",
            "Move disk 1 from road A to rod C\n"
          ]
        }
      ]
    }
  ]
}