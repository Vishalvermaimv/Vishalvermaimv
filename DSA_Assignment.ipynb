{
  "nbformat": 4,
  "nbformat_minor": 0,
  "metadata": {
    "colab": {
      "provenance": [],
      "authorship_tag": "ABX9TyNSyaISjcyPw/pvw1P/5sy3",
      "include_colab_link": true
    },
    "kernelspec": {
      "name": "python3",
      "display_name": "Python 3"
    },
    "language_info": {
      "name": "python"
    }
  },
  "cells": [
    {
      "cell_type": "markdown",
      "metadata": {
        "id": "view-in-github",
        "colab_type": "text"
      },
      "source": [
        "<a href=\"https://colab.research.google.com/github/Vishalvermaimv/Vishalvermaimv/blob/main/DSA_Assignment.ipynb\" target=\"_parent\"><img src=\"https://colab.research.google.com/assets/colab-badge.svg\" alt=\"Open In Colab\"/></a>"
      ]
    },
    {
      "cell_type": "code",
      "execution_count": 9,
      "metadata": {
        "colab": {
          "base_uri": "https://localhost:8080/"
        },
        "id": "2Cr3XIXOnQRu",
        "outputId": "8795631e-efdd-4ccd-98f0-3c530cc292b3"
      },
      "outputs": [
        {
          "output_type": "stream",
          "name": "stdout",
          "text": [
            "1 8\n",
            "2 7\n",
            "3 6\n",
            "4 5\n",
            "\n"
          ]
        }
      ],
      "source": [
        "#PROBLEM FOR ASSIGNMENT :- LINEAR DATA STRUCTURES.\n",
        "# 1 PROBLEM:- WRITE A PROGRAM TO FIND ALL PAIRS OF AN INTEGER ARRAY WHOSE SUM IS EQUAL TO GIVEN NUMBER.\n",
        "def print_pairs(arr,n,sum):\n",
        "  for i in range (0,n):\n",
        "    for j in range(i+1,n):\n",
        "      if (arr[i]+arr[j] ==sum):\n",
        "        print(arr[i],arr[j])\n",
        "  return \"\"       \n",
        "arr=[1,2,3,4,5,6,7,8,9]\n",
        "n =len(arr)\n",
        "sum=9\n",
        "print(print_pairs(arr,n,sum))\n"
      ]
    },
    {
      "cell_type": "code",
      "source": [
        "# PROBLEM 2:-WRITE A PROGRAM TO REVERSE AN ARRAY IN PLACE? IN PLACE MEANS YOU CANNOT CREATE NEW ARRAY YOU HAVE TO UPDATE ORIGINAL ARRAY\n",
        "\n",
        "def reverse():\n",
        "  array=[1,2,3,4,5,6,7,8]\n",
        "  print(\"Before Reversing List is: \",array)\n",
        "  array.reverse()\n",
        "  print(\"After Reversing List is: \",array)\n",
        "  return \" \"\n",
        "print(reverse())\n",
        "  \n"
      ],
      "metadata": {
        "colab": {
          "base_uri": "https://localhost:8080/"
        },
        "id": "gRt_tsFjtKsM",
        "outputId": "6a2969cc-15de-452a-8778-95ad72c56dd5"
      },
      "execution_count": 18,
      "outputs": [
        {
          "output_type": "stream",
          "name": "stdout",
          "text": [
            "Before Reversing List is:  [1, 2, 3, 4, 5, 6, 7, 8]\n",
            "After Reversing List is:  [8, 7, 6, 5, 4, 3, 2, 1]\n",
            " \n"
          ]
        }
      ]
    },
    {
      "cell_type": "code",
      "source": [
        "# PROBLEM 3: WRITE A PROGRAM TO CHECK IF TWO STRINGS ARE A ROTATION OF EACH OTHER.\n",
        "\n",
        "def rotation(s1,s2):\n",
        "  if len(s1) !=len(s2):\n",
        "    return False\n",
        "  s3=s1+s1\n",
        "  if s2 in s3:\n",
        "    return True\n",
        "  else:\n",
        "    return False\n",
        "s1=\"helloworld\"\n",
        "s2=\"worldhello\"\n",
        "rotation(s1,s2)\n"
      ],
      "metadata": {
        "colab": {
          "base_uri": "https://localhost:8080/"
        },
        "id": "mym6R96-wjdx",
        "outputId": "f44c34fe-d1c2-44c2-bf78-b016ae17ac48"
      },
      "execution_count": 16,
      "outputs": [
        {
          "output_type": "execute_result",
          "data": {
            "text/plain": [
              "True"
            ]
          },
          "metadata": {},
          "execution_count": 16
        }
      ]
    },
    {
      "cell_type": "code",
      "source": [
        "# PROBLEM 4: WRITE A PYTHON PROGRAM TO PRINT THE FIRST NON-REPEATED CHARACTER FROM A STRING.\n",
        "\n",
        "def Non_repeating(str):\n",
        "  dict={}\n",
        "  size=len(str)\n",
        "  for i in range(size):\n",
        "    key=str[i]\n",
        "    if key not in dict:\n",
        "      dict[key]=1\n",
        "    else:\n",
        "      dict[key]=dict[key]+1\n",
        "  for key,value in dict.items():\n",
        "    if(value==1):\n",
        "      print(key)\n",
        "      break\n",
        "  return \" \"\n",
        "print(Non_repeating(\"abcdabcdv\"))"
      ],
      "metadata": {
        "colab": {
          "base_uri": "https://localhost:8080/"
        },
        "id": "x5vrEamg0j9Q",
        "outputId": "098dffe0-7314-4524-b59b-6aa73bc02a15"
      },
      "execution_count": 19,
      "outputs": [
        {
          "output_type": "stream",
          "name": "stdout",
          "text": [
            "v\n",
            " \n"
          ]
        }
      ]
    },
    {
      "cell_type": "code",
      "source": [
        "#PROBLEM 5: READ ABOUT THE TOWER OF HANOI ALGORITHM.WRITE A PROGRAM TO IMPLEMENT IT.\n",
        "\n",
        "def TOH(numbers,start,aux,end):\n",
        "  if numbers==1:\n",
        "    print(\"Move disk 1 from road {} to rod {}\".format(start,end))\n",
        "    return\n",
        "  TOH(numbers-1,start,end,aux)\n",
        "  print(\"Move disk {} from rod {} to rod {}\".format(numbers,start,end))\n",
        "  TOH(numbers-1,aux,start,end)\n",
        "disc=3\n",
        "TOH(disc,\"A\",\"B\",\"C\")"
      ],
      "metadata": {
        "colab": {
          "base_uri": "https://localhost:8080/"
        },
        "id": "3UQbdWyv4BdF",
        "outputId": "f41fd070-49dc-4f15-e59f-93f3d6694212"
      },
      "execution_count": 22,
      "outputs": [
        {
          "output_type": "stream",
          "name": "stdout",
          "text": [
            "Move disk 1 from road A to rod C\n",
            "Move disk 2 from rod A to rod B\n",
            "Move disk 1 from road C to rod B\n",
            "Move disk 3 from rod A to rod C\n",
            "Move disk 1 from road B to rod A\n",
            "Move disk 2 from rod B to rod C\n",
            "Move disk 1 from road A to rod C\n"
          ]
        }
      ]
    },
    {
      "cell_type": "code",
      "source": [
        "#PROBLEM 6: READ ABOUT INFIX,PREFIX AND POSTFIX EXPRESSIONS. WRITE A PROGRAM TO CONVERT POSTFIX TO PREFIX EXPRESSION.\n",
        "\n",
        "def isOperator(x):\n",
        "  if x == \"+\":\n",
        "    return True\n",
        "  if x == \"-\":\n",
        "    return True\n",
        "  if x == \"/\":\n",
        "    return True\n",
        "  if x == \"*\":\n",
        "    return True\n",
        "  return False\n",
        "\n",
        "def post_To_pre(post_exp):\n",
        "  s = []\n",
        "  length = len(post_exp)\n",
        "  for i in range(length):\n",
        "    if (isOperator(post_exp[i])):\n",
        "      op1 = s[-1]\n",
        "      s.pop()\n",
        "      op2 = s[-1]\n",
        "      s.pop()\n",
        "      temp = post_exp[i] + op2 + op1\n",
        "      s.append(temp)\n",
        "    else:\n",
        "      s.append(post_exp[i])\n",
        "\n",
        "  ans = \" \"\n",
        "  for i in s:\n",
        "    ans += i\n",
        "  return ans\n",
        "\n",
        "if __name__ ==\"__main__\":\n",
        "  post_exp = \"AB+cd-\"\n",
        "  print(\"prefix: \", post_To_pre(post_exp))\n",
        "\n"
      ],
      "metadata": {
        "colab": {
          "base_uri": "https://localhost:8080/"
        },
        "id": "GKm6woHSMiSy",
        "outputId": "9cb2269d-7262-4f3a-e346-d8ea5d8b4cce"
      },
      "execution_count": 26,
      "outputs": [
        {
          "output_type": "stream",
          "name": "stdout",
          "text": [
            "prefix:   +AB-cd\n"
          ]
        }
      ]
    },
    {
      "cell_type": "code",
      "source": [
        "# PROBLEM 7: WRITE A PROGRAM TO COVERT PREFIX EXPRESSION TO INFIX EXPRESSION\n",
        "\n",
        "def prefix_to_infix(prefix):\n",
        "  stack = []\n",
        "  i = len(prefix) - 1\n",
        "  while i >= 0:\n",
        "    if not isOperator(prefix[i]):\n",
        "      stack.append(prefix[i])\n",
        "      i -= 1\n",
        "    else:\n",
        "      str = \"(\" + stack.pop() + prefix[i] + stack.pop() + \")\"\n",
        "      stack.append(str)\n",
        "      i -= 1\n",
        "  return stack.pop()\n",
        "def isOperator(c):\n",
        "  if c == \"*\" or c == \"+\" or c == \"-\" or c == \"/\" or c == \"^\" or c ==\"(\" or c == \")\":\n",
        "    return True\n",
        "  else:\n",
        "    return False\n",
        "\n",
        "if __name__ ==\"__main__\":\n",
        "  str = \"*-A/BC-/AKL\"\n",
        "  print(prefix_to_infix(str))"
      ],
      "metadata": {
        "colab": {
          "base_uri": "https://localhost:8080/"
        },
        "id": "Qy5RJ6uU4sDs",
        "outputId": "b7e9d52c-3563-47c0-8f3e-80260b8eb87f"
      },
      "execution_count": 24,
      "outputs": [
        {
          "output_type": "stream",
          "name": "stdout",
          "text": [
            "((A-(B/C))*((A/K)-L))\n"
          ]
        }
      ]
    },
    {
      "cell_type": "code",
      "source": [
        "# PROBLEM 8: WRITE A PROGRAM TO CHECK IF ALL THE BRACKETS ARE CLOSED IN A GIVEN CODE SNIPPET.\n",
        "\n",
        "def isbalance(expr):\n",
        "  stack = []\n",
        "  for char in expr:\n",
        "    if char in [\"(\",\"{\",\"[\"]:\n",
        "      stack.append(char)\n",
        "    else:\n",
        "      if not stack:\n",
        "        return False\n",
        "      current_char=stack.pop()\n",
        "      if current_char ==\"(\":\n",
        "        if char != \")\":\n",
        "          return False\n",
        "      if current_char ==\"{\":\n",
        "        if char != \"}\":\n",
        "          return False\n",
        "      if current_char ==\"[\":\n",
        "        if char != \"]\":\n",
        "          return False\n",
        "\n",
        "  if stack:\n",
        "     return False\n",
        "  else:\n",
        "      return True\n",
        "expr=\"{()}[]\"\n",
        "print(\"All Brackets are closed\")\n",
        "isbalance(expr)\n",
        "\n"
      ],
      "metadata": {
        "colab": {
          "base_uri": "https://localhost:8080/"
        },
        "id": "-LTshhFg4sj3",
        "outputId": "259970f2-7b95-4754-dcca-b0599b7c693e"
      },
      "execution_count": 12,
      "outputs": [
        {
          "output_type": "stream",
          "name": "stdout",
          "text": [
            "All Brackets are closed\n"
          ]
        },
        {
          "output_type": "execute_result",
          "data": {
            "text/plain": [
              "True"
            ]
          },
          "metadata": {},
          "execution_count": 12
        }
      ]
    },
    {
      "cell_type": "code",
      "source": [
        "# PROBLEM 9 : WRITE A PROGRAM TO REVERSE A STACK\n",
        "\n",
        "class Stack(object):\n",
        "  def __init__(self):\n",
        "    self.items = []\n",
        "  def push(self,item):\n",
        "    self.items.append(item)\n",
        "  def pop(self):\n",
        "    if self.items ==[]:\n",
        "      return None\n",
        "    else:\n",
        "      return self.items.pop()\n",
        "  def size(self):\n",
        "    return len(self.items)\n",
        "  def isempty(self):\n",
        "    return self.items ==[]\n",
        "\n",
        "\n",
        "def reverse(str):\n",
        "  temstr = \" \"\n",
        "  stack = Stack()\n",
        "  for i in range(len(str)):\n",
        "    stack.push(str[i])\n",
        "\n",
        "  while not stack.isempty():\n",
        "    tem = stack.pop()\n",
        "    temstr =temstr + tem \n",
        "\n",
        "  return temstr\n",
        "if __name__== \"__main__\":\n",
        "  print(reverse(\"vishal\"))"
      ],
      "metadata": {
        "colab": {
          "base_uri": "https://localhost:8080/"
        },
        "id": "FQ-apE7O-Y3j",
        "outputId": "aa0cfbad-9c54-47e8-fe55-cac3e7c610cf"
      },
      "execution_count": 23,
      "outputs": [
        {
          "output_type": "stream",
          "name": "stdout",
          "text": [
            " lahsiv\n"
          ]
        }
      ]
    },
    {
      "cell_type": "code",
      "source": [
        "# PROBLEM 10 : WRITE A PROGRAM TO FIND THE SMALLEST NUMBER USING A STACK\n",
        "\n",
        "my_stack = [1,23,40,677,80,90]\n",
        "minimum = my_stack[5]\n",
        "for i in range(len(my_stack)):\n",
        "  if my_stack[i]< minimum:\n",
        "    minimum = my_stack[i]\n",
        "\n",
        "print(\"Smallest Number in my stack is: \", minimum)"
      ],
      "metadata": {
        "colab": {
          "base_uri": "https://localhost:8080/"
        },
        "id": "0LlZuBTG_bm6",
        "outputId": "1158c48c-161d-45e4-af67-9d8256e95946"
      },
      "execution_count": 16,
      "outputs": [
        {
          "output_type": "stream",
          "name": "stdout",
          "text": [
            "Smallest Number in my stack is:  1\n"
          ]
        }
      ]
    }
  ]
}