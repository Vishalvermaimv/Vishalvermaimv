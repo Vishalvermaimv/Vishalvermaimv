{
  "nbformat": 4,
  "nbformat_minor": 0,
  "metadata": {
    "colab": {
      "provenance": [],
      "authorship_tag": "ABX9TyP4ugU1GNfWev7Ebm458U3Y",
      "include_colab_link": true
    },
    "kernelspec": {
      "name": "python3",
      "display_name": "Python 3"
    },
    "language_info": {
      "name": "python"
    }
  },
  "cells": [
    {
      "cell_type": "markdown",
      "metadata": {
        "id": "view-in-github",
        "colab_type": "text"
      },
      "source": [
        "<a href=\"https://colab.research.google.com/github/Vishalvermaimv/Vishalvermaimv/blob/main/assignment_4_link_2.ipynb\" target=\"_parent\"><img src=\"https://colab.research.google.com/assets/colab-badge.svg\" alt=\"Open In Colab\"/></a>"
      ]
    },
    {
      "cell_type": "code",
      "execution_count": 2,
      "metadata": {
        "colab": {
          "base_uri": "https://localhost:8080/"
        },
        "id": "yu6fTQ8n-U2-",
        "outputId": "25944a81-ed12-4cfb-82f0-14fccfaddffb"
      },
      "outputs": [
        {
          "output_type": "stream",
          "name": "stdout",
          "text": [
            "[3, 6, 9, 12, 15, 18, 21]\n"
          ]
        }
      ],
      "source": [
        "#write a python program to triple all numbers of a given list of integers.use python map.\n",
        "\n",
        "x=[1,2,3,4,5,6,7]\n",
        "l1=list(map(lambda n:n*3,x))\n",
        "print(l1)"
      ]
    }
  ]
}