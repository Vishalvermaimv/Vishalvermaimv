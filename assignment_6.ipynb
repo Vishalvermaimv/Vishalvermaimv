{
  "nbformat": 4,
  "nbformat_minor": 0,
  "metadata": {
    "colab": {
      "provenance": [],
      "authorship_tag": "ABX9TyM5fS99g9MidVlqMuNb4woj",
      "include_colab_link": true
    },
    "kernelspec": {
      "name": "python3",
      "display_name": "Python 3"
    },
    "language_info": {
      "name": "python"
    }
  },
  "cells": [
    {
      "cell_type": "markdown",
      "metadata": {
        "id": "view-in-github",
        "colab_type": "text"
      },
      "source": [
        "<a href=\"https://colab.research.google.com/github/Vishalvermaimv/Vishalvermaimv/blob/main/assignment_6.ipynb\" target=\"_parent\"><img src=\"https://colab.research.google.com/assets/colab-badge.svg\" alt=\"Open In Colab\"/></a>"
      ]
    },
    {
      "cell_type": "code",
      "execution_count": 16,
      "metadata": {
        "colab": {
          "base_uri": "https://localhost:8080/"
        },
        "id": "T29sb7JTaOcG",
        "outputId": "d71f307e-f455-44f5-cd79-c653cd8b67c7"
      },
      "outputs": [
        {
          "output_type": "stream",
          "name": "stdout",
          "text": [
            "Employees detailes is completed\n",
            "1 {'Name': 'vishal verma', 'DOB': '02.03.1998', 'Height': '5.7', 'City': 'Bokaro', 'State': 'Jharkhand'}\n",
            "2 {'Name': 'Md Shahid', 'DOB': '10.10.1997', 'Height': '5.7', 'City': 'Bokaro', 'State': 'Jharkhand'}\n",
            "3 {'Name': 'Rahul singh', 'DOB': '04.07.1996', 'Height': '5.5', 'City': 'kolkata', 'State': 'West Bengal'}\n",
            "4 {'Name': 'Anand kumar', 'DOB': '01.05.1996', 'Height': '5.5', 'City': 'lucknow', 'State': 'Utar Pradesh'}\n",
            "5 {'Name': 'Aman kumar', 'DOB': '09.09.1999', 'Height': '5.7', 'City': 'Dhanbad', 'State': 'Jharkhand'}\n"
          ]
        }
      ],
      "source": [
        "# ASSIGNMENT 1: CHALLENGE 1:\n",
        "# CREATE A JSON FILE (EMPLOYEE.JSON) CONTAINING EMPLOYEE INFORMATION OF MINIMUM 5 EMPLOYEES.\n",
        "\n",
        "import json\n",
        "class Employee:\n",
        "  def __init__(self):\n",
        "    self.Employees={}\n",
        "  def Employees_detailes(self):\n",
        "    self.employees={1:{\"Name\":\"vishal verma\",\"DOB\":\"02.03.1998\",\"Height\":\"5.7\",\"City\":\"Bokaro\",\"State\":\"Jharkhand\"},\n",
        "           2:{\"Name\":\"Md Shahid\",\"DOB\":\"10.10.1997\",\"Height\":\"5.7\",\"City\":\"Bokaro\",\"State\":\"Jharkhand\"},\n",
        "           3:{\"Name\":\"Rahul singh\",\"DOB\":\"04.07.1996\",\"Height\":\"5.5\",\"City\":\"kolkata\",\"State\":\"West Bengal\"},\n",
        "           4:{\"Name\":\"Anand kumar\",\"DOB\":\"01.05.1996\",\"Height\":\"5.5\",\"City\":\"lucknow\",\"State\":\"Utar Pradesh\"},\n",
        "           5:{\"Name\":\"Aman kumar\",\"DOB\":\"09.09.1999\",\"Height\":\"5.7\",\"City\":\"Dhanbad\",\"State\":\"Jharkhand\"}}\n",
        "    self.Employees=self.employees    \n",
        "    with open (\"json_Employees.json\",\"w\") as f:\n",
        "       json.dump(Employees,f)\n",
        "    print(\"Employees detailes is completed\")\n",
        "    for k, v in Employees.items():\n",
        "      print(k, v)         \n",
        "x=Employee()\n",
        "x.Employees_detailes()"
      ]
    },
    {
      "cell_type": "code",
      "source": [
        "#ASSIGNMENT 1:CHALLENGE 2:-\n",
        "# CREATE A DICTIONARY OF ANY 7 INDIAN STATES AND THEIR CAPITALS.WRITE THIS INTO JSON FILE.\n",
        "\n",
        "import json\n",
        "\n",
        "india={\"Jharkhand\":\"Ranchi\",\"Bihar\":\"Patna\",\"uttar pradesh\":\"lucknow\",\"west Bengal\":\"kolkata\",\"udisha\":\"bhuneshwar\",\"punjab\":\"chandigarh\",\"gujrat\":\"gandhinagar\"}\n",
        "with open (\"json_india.json\",\"w\") as f:\n",
        "  json.dump(india,f) \n",
        "  print(\"json is completed\") \n",
        "  print(india)"
      ],
      "metadata": {
        "colab": {
          "base_uri": "https://localhost:8080/"
        },
        "id": "-_9wcrlQ4-0V",
        "outputId": "991bd4ec-718e-4bbd-b733-307ec974efe1"
      },
      "execution_count": 1,
      "outputs": [
        {
          "output_type": "stream",
          "name": "stdout",
          "text": [
            "json is completed\n",
            "{'Jharkhand': 'Ranchi', 'Bihar': 'Patna', 'uttar pradesh': 'lucknow', 'west Bengal': 'kolkata', 'udisha': 'bhuneshwar', 'punjab': 'chandigarh', 'gujrat': 'gandhinagar'}\n"
          ]
        }
      ]
    },
    {
      "cell_type": "code",
      "source": [
        "#ASSIGNMENT 2\n",
        "# CREATE A CLASS NAMED DOG.IT SHOULD HAVE A CONSTRUCTOR WHICH ACCEPTS ITS NAME, AGE,AND COAT COLOR.\n",
        "class Dog:\n",
        "  def __init__(self,name,age,coat_color):\n",
        "    self.name = name\n",
        "    self.age = age\n",
        "    self.coat_color = coat_color\n",
        "  def description (self):\n",
        "    print(\"Name of the dog is: \",self.name)\n",
        "    print(\"Age of the dog is: \",self.age)\n",
        "  def get_info (self):\n",
        "    print(\"Coat color of the dog is: \",self.coat_color)\n",
        "class JackRussellTerrier(Dog):\n",
        "  def __init__(self,name,age,coat_color,energy_level,tendency_to_bark):\n",
        "    super().__init__(name,age,coat_color)\n",
        "    super().description()\n",
        "    super().get_info()\n",
        "    self.energy_level = energy_level\n",
        "    self.tendency_to_bark = tendency_to_bark\n",
        "    print(\"Energy level of the dog is: \",self.energy_level)\n",
        "    print(\"Tendency to bark is: \",self.tendency_to_bark)\n",
        "class Bulldog(Dog):\n",
        "  def __init__(self,name,age,coat_color,height,weight):\n",
        "    super().__init__(name,age,coat_color)\n",
        "    super().description()\n",
        "    super().get_info()\n",
        "    self.height = height\n",
        "    self.weight = weight\n",
        "    print(\"Height of the dog in inches is: \",self.height)\n",
        "    print(\"Weight of the dog in pounds is: \",self.weight)\n",
        "j=JackRussellTerrier(\"jack\",\"13 to 15\",\"white and black\",\"high\",\"high\")\n",
        "print(\"------------------------------------------------------------------------\")\n",
        "B=Bulldog(\"Bulldog\",\"8 to 10\",\"white\",\"14 to 15\",\"40 to 50\")\n",
        "\n"
      ],
      "metadata": {
        "colab": {
          "base_uri": "https://localhost:8080/"
        },
        "id": "iC3L8PElaxMw",
        "outputId": "62c69ff3-526b-4126-d0c8-b6efeab68a48"
      },
      "execution_count": 32,
      "outputs": [
        {
          "output_type": "stream",
          "name": "stdout",
          "text": [
            "Name of the dog is:  jack\n",
            "Age of the dog is:  13 to 15\n",
            "Coat color of the dog is:  white and black\n",
            "Energy level of the dog is:  high\n",
            "Tendency to bark is:  high\n",
            "------------------------------------------------------------------------\n",
            "Name of the dog is:  Bulldog\n",
            "Age of the dog is:  8 to 10\n",
            "Coat color of the dog is:  white\n",
            "Height of the dog in inches is:  14 to 15\n",
            "Weight of the dog in pounds is:  40 to 50\n"
          ]
        }
      ]
    }
  ]
}