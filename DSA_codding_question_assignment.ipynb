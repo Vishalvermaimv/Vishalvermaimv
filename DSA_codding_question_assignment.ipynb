{
  "nbformat": 4,
  "nbformat_minor": 0,
  "metadata": {
    "colab": {
      "provenance": [],
      "authorship_tag": "ABX9TyPhWwC/+4u2jmqRpCtCaEQy",
      "include_colab_link": true
    },
    "kernelspec": {
      "name": "python3",
      "display_name": "Python 3"
    },
    "language_info": {
      "name": "python"
    }
  },
  "cells": [
    {
      "cell_type": "markdown",
      "metadata": {
        "id": "view-in-github",
        "colab_type": "text"
      },
      "source": [
        "<a href=\"https://colab.research.google.com/github/Vishalvermaimv/Vishalvermaimv/blob/main/DSA_codding_question_assignment.ipynb\" target=\"_parent\"><img src=\"https://colab.research.google.com/assets/colab-badge.svg\" alt=\"Open In Colab\"/></a>"
      ]
    },
    {
      "cell_type": "code",
      "execution_count": 2,
      "metadata": {
        "colab": {
          "base_uri": "https://localhost:8080/"
        },
        "id": "NFyte9GFF3_4",
        "outputId": "8c345d46-9662-4512-84e1-91b62a300667"
      },
      "outputs": [
        {
          "output_type": "stream",
          "name": "stdout",
          "text": [
            "A \n",
            "\n",
            "B B \n",
            "\n",
            "C C C \n",
            "\n",
            "D D D D \n",
            "\n",
            "E E E E E \n",
            "\n"
          ]
        }
      ],
      "source": [
        "# PRINT HALF PYRAMID PATTERN\n",
        "def Triangle(a,b):\n",
        "  \n",
        "  for i in range(65,70):\n",
        "    for j in range(65,i+1):\n",
        "      print(str(chr(i)),end=\" \")\n",
        "    print(\"\\n\")\n",
        "x=Triangle(65,70)"
      ]
    },
    {
      "cell_type": "code",
      "source": [
        "#PROBLEM 2: WRITE A PYTHON PROGRAM TO PRINT FULL PYRAMID USING * SYMBOL. THE PATTERN SHOULD BE AS SHOWN BELOW.\n",
        "for i in range(0,6):\n",
        "  for j in range(1,(2*i-1)+1):\n",
        "    print(\"*\",end=\" \")\n",
        "  print(\"\\n\")"
      ],
      "metadata": {
        "colab": {
          "base_uri": "https://localhost:8080/"
        },
        "id": "f2mc9LqYPF33",
        "outputId": "fcc29d20-0c26-48b2-e36d-4b3245dd095c"
      },
      "execution_count": 6,
      "outputs": [
        {
          "output_type": "stream",
          "name": "stdout",
          "text": [
            "\n",
            "\n",
            "* \n",
            "\n",
            "* * * \n",
            "\n",
            "* * * * * \n",
            "\n",
            "* * * * * * * \n",
            "\n",
            "* * * * * * * * * \n",
            "\n"
          ]
        }
      ]
    },
    {
      "cell_type": "code",
      "source": [
        "#PROBLEM 3: REVERSE A NUMBERS ENTERED BY THE USER.\n",
        "def reverse(num,n):\n",
        "  rev = 0\n",
        "  for i in range(n):\n",
        "    rem = num%10\n",
        "    rev =rev*10 + rem\n",
        "    num = num//10\n",
        "  return rev\n",
        "    \n",
        "num=int(input(\"Enter the number: \"))\n",
        "n = len(str(num))\n",
        "x = reverse(num,n)\n",
        "print(\"After reversing the number is: \",x)"
      ],
      "metadata": {
        "colab": {
          "base_uri": "https://localhost:8080/"
        },
        "id": "okiyCVhKhewP",
        "outputId": "cf0e7928-9312-46a6-ca57-9871c42043d1"
      },
      "execution_count": 5,
      "outputs": [
        {
          "output_type": "stream",
          "name": "stdout",
          "text": [
            "Enter the number: 567\n",
            "After reversing the number is:  765\n"
          ]
        }
      ]
    },
    {
      "cell_type": "code",
      "source": [
        "#PROBLEM 4: GIVEN OF INTEGER. FIND A PEAK ELEMENT I.E AN ELEMENT THAT IS NOT SMALLER THAN ITS NEIGHOUR.\n",
        "\n",
        "def Pick_Element(array):\n",
        "  for i in range(1,len(array)):\n",
        "    if array[i] > array[i-1] and array[i] > array[i+1]:\n",
        "      print(array[i])\n",
        "    \n",
        "\n",
        "array =[10,20,15,2,23,90,67]\n",
        "print(\"Pick Element in this array is: \")\n",
        "Pick_Element(array)"
      ],
      "metadata": {
        "colab": {
          "base_uri": "https://localhost:8080/"
        },
        "id": "LyDho3AAuEON",
        "outputId": "3fd160b6-dcf6-4b72-cf93-36ab16e3d13d"
      },
      "execution_count": 9,
      "outputs": [
        {
          "output_type": "stream",
          "name": "stdout",
          "text": [
            "Pick Element in this array is: \n",
            "20\n",
            "90\n"
          ]
        }
      ]
    },
    {
      "cell_type": "code",
      "source": [
        "# PROBLEM 5: GIVEN AN ARRAY. CYCLICALLY ROTATE THE ARRAY CLOCKWISE BY ONE.\n",
        "\n",
        "def Cyclick_Rotate(array,n):\n",
        "  cyclick=[]\n",
        "  for i in range(n):\n",
        "    cyclick.append(array[i-1])\n",
        "    \n",
        "  array = cyclick[:]    \n",
        "  return cyclick\n",
        "array =[1,2,3,4,5]\n",
        "n = len(array)\n",
        "Cyclick_Rotate(array,n)\n",
        "  "
      ],
      "metadata": {
        "colab": {
          "base_uri": "https://localhost:8080/"
        },
        "id": "S879EXmQwWM1",
        "outputId": "a328eed0-6d33-40a0-9f8b-d079673abb3a"
      },
      "execution_count": 22,
      "outputs": [
        {
          "output_type": "execute_result",
          "data": {
            "text/plain": [
              "[5, 1, 2, 3, 4]"
            ]
          },
          "metadata": {},
          "execution_count": 22
        }
      ]
    },
    {
      "cell_type": "code",
      "source": [
        "#PROBLEM 6: GIVEN AN ARRAY OF INTEGERS.FIND THE LENGHT OF THE LONGEST SUB -SEQUENCE SUCH THAT ELEMENTS IN THE SUBSEQENCE ARE CONSECUTIVE INTEGERS\n",
        "# THE CONSECUTIVE NUMBERS CAN BE IN ANY ORDER.\n",
        "\n",
        "def Subseqence(array,n):\n",
        "  count=0\n",
        "  array.sort()\n",
        "  seqence =[]\n",
        "  for i in range(0,n):\n",
        "    if array[i+1]-array[i] ==1:\n",
        "      seqence.append(array[i+1])\n",
        "      seqence.append(array[i])\n",
        "    else:\n",
        "     break\n",
        "  print(\"Sequence numbers are: \")    \n",
        "  print(set(seqence))\n",
        "  print(\"Sequence numbers count is: \")\n",
        "  return len(set(seqence))\n",
        "\n",
        "array =[36,41,56,35,44,33,34,92,43,32,42]\n",
        "n = len(array)\n",
        "print(Subseqence(array,n))\n",
        "\n",
        "\n",
        "    \n"
      ],
      "metadata": {
        "colab": {
          "base_uri": "https://localhost:8080/"
        },
        "id": "gk2BeEjS113a",
        "outputId": "940dd648-bbca-41bb-ca7a-cb04a13398ea"
      },
      "execution_count": 55,
      "outputs": [
        {
          "output_type": "stream",
          "name": "stdout",
          "text": [
            "Sequence numbers are: \n",
            "{32, 33, 34, 35, 36}\n",
            "Sequence numbers count is: \n",
            "5\n"
          ]
        }
      ]
    }
  ]
}