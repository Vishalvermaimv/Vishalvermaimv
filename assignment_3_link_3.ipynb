{
  "nbformat": 4,
  "nbformat_minor": 0,
  "metadata": {
    "colab": {
      "provenance": [],
      "authorship_tag": "ABX9TyPGzKqmE2R7rCGhNAOwIReO",
      "include_colab_link": true
    },
    "kernelspec": {
      "name": "python3",
      "display_name": "Python 3"
    },
    "language_info": {
      "name": "python"
    }
  },
  "cells": [
    {
      "cell_type": "markdown",
      "metadata": {
        "id": "view-in-github",
        "colab_type": "text"
      },
      "source": [
        "<a href=\"https://colab.research.google.com/github/Vishalvermaimv/Vishalvermaimv/blob/main/assignment_3_link_3.ipynb\" target=\"_parent\"><img src=\"https://colab.research.google.com/assets/colab-badge.svg\" alt=\"Open In Colab\"/></a>"
      ]
    },
    {
      "cell_type": "code",
      "execution_count": 44,
      "metadata": {
        "colab": {
          "base_uri": "https://localhost:8080/"
        },
        "id": "tE5RNwbuKw4-",
        "outputId": "1f7e20ee-ea61-4df2-91b4-eae906017695"
      },
      "outputs": [
        {
          "output_type": "stream",
          "name": "stdout",
          "text": [
            "enter the string: The quick Brow Fox\n",
            "no.of upper case characters:  3\n",
            "no.of lower case charcters:  12\n"
          ]
        }
      ],
      "source": [
        "#write a python function that accepts a string and calculate the number of upper case latters and lower case latters.\n",
        "    \n",
        "def clct(str1):\n",
        "   lower=0\n",
        "   upper=0\n",
        "   special=0\n",
        "   for char in str1:\n",
        "      if (char==\" \"):\n",
        "        special=special*0\n",
        "      elif char.islower():\n",
        "        lower=lower+1\n",
        "      elif char.isupper:\n",
        "        upper=upper+1\n",
        "      return \" \"\n",
        "str1=input(\"enter the string: \")\n",
        "print(\"no.of upper case characters: \",upper)\n",
        "print(\"no.of lower case charcters: \",lower)"
      ]
    }
  ]
}