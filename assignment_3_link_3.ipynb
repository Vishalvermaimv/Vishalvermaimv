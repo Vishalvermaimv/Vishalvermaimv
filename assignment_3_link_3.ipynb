{
  "nbformat": 4,
  "nbformat_minor": 0,
  "metadata": {
    "colab": {
      "provenance": [],
      "authorship_tag": "ABX9TyPwwEKYFwcVgmnVsQXm0J0K",
      "include_colab_link": true
    },
    "kernelspec": {
      "name": "python3",
      "display_name": "Python 3"
    },
    "language_info": {
      "name": "python"
    }
  },
  "cells": [
    {
      "cell_type": "markdown",
      "metadata": {
        "id": "view-in-github",
        "colab_type": "text"
      },
      "source": [
        "<a href=\"https://colab.research.google.com/github/Vishalvermaimv/Vishalvermaimv/blob/main/assignment_3_link_3.ipynb\" target=\"_parent\"><img src=\"https://colab.research.google.com/assets/colab-badge.svg\" alt=\"Open In Colab\"/></a>"
      ]
    },
    {
      "cell_type": "code",
      "execution_count": 4,
      "metadata": {
        "colab": {
          "base_uri": "https://localhost:8080/"
        },
        "id": "SaXLQyZvWIod",
        "outputId": "478ff558-085a-4d87-f8aa-7deabe11cb1e"
      },
      "outputs": [
        {
          "output_type": "stream",
          "name": "stdout",
          "text": [
            "enter the string: The quick Brow Fox\n",
            "no of upper case character:  3\n",
            "no of lower case chacacter:  12\n"
          ]
        }
      ],
      "source": [
        "#write a python function that accepts a string and calculate the number of upper case letters and lower case letters.\n",
        "\n",
        "def clct(string1):\n",
        "   upper=0\n",
        "   lower=0\n",
        "   special=0\n",
        "   for char in string1:\n",
        "      if (char==\" \"):\n",
        "        special=special*1\n",
        "      elif char.isupper():\n",
        "        upper=upper+1\n",
        "      elif char.islower():\n",
        "        lower=lower+1\n",
        "      return \" \"\n",
        "string1=input(\"enter the string: \")\n",
        "print(\"no of upper case character: \",upper)\n",
        "print(\"no of lower case chacacter: \",lower)\n"
      ]
    }
  ]
}