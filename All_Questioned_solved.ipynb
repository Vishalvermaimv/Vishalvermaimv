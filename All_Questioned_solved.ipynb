{
  "nbformat": 4,
  "nbformat_minor": 0,
  "metadata": {
    "colab": {
      "provenance": [],
      "collapsed_sections": [],
      "authorship_tag": "ABX9TyN0/d/jEIswlKBjqVKmbzfk",
      "include_colab_link": true
    },
    "kernelspec": {
      "name": "python3",
      "display_name": "Python 3"
    },
    "language_info": {
      "name": "python"
    }
  },
  "cells": [
    {
      "cell_type": "markdown",
      "metadata": {
        "id": "view-in-github",
        "colab_type": "text"
      },
      "source": [
        "<a href=\"https://colab.research.google.com/github/Vishalvermaimv/Vishalvermaimv/blob/main/All_Questioned_solved.ipynb\" target=\"_parent\"><img src=\"https://colab.research.google.com/assets/colab-badge.svg\" alt=\"Open In Colab\"/></a>"
      ]
    },
    {
      "cell_type": "code",
      "execution_count": 23,
      "metadata": {
        "colab": {
          "base_uri": "https://localhost:8080/",
          "height": 0
        },
        "id": "Tnzk-iSuewhi",
        "outputId": "6f5364ff-c2cf-4220-e7a4-cb1ca157e255"
      },
      "outputs": [
        {
          "output_type": "stream",
          "name": "stdout",
          "text": [
            "student name vishal\n",
            "student class 10\n",
            "student roll no 05\n",
            "your marks in hindi 90\n",
            "your marks in english 95\n",
            "your marks in maths 99\n",
            "your marks in science 90\n",
            "your marks in social science 90\n",
            "congratulations your grade is A+\n",
            "your percentage is 92\n",
            "best wishes for you\n",
            " Board authority\n"
          ]
        }
      ],
      "source": [
        "#Report card problem\n",
        "\n",
        "student_name=input(\"student name \")\n",
        "student_class=int(input(\"student class \"))\n",
        "student_roll_no=int(input(\"student roll no \"))\n",
        "hindi=int(input(\"your marks in hindi \"))\n",
        "english=int(input(\"your marks in english \"))\n",
        "maths=int(input(\"your marks in maths \"))\n",
        "science=int(input(\"your marks in science \"))\n",
        "social_science=int(input(\"your marks in social science \"))\n",
        "obtained_marks=int(hindi+english+maths+science+social_science)\n",
        "percentage=int(obtained_marks/5)\n",
        "if percentage>=90:\n",
        "  print(\"congratulations your grade is A+\")\n",
        "  print(\"your percentage is\" ,percentage)\n",
        "elif percentage>=60:\n",
        "  print(\"congratulations your grade is A\")\n",
        "  print(\"your percentage is\" ,percentage )\n",
        "elif percentage>=45:\n",
        "  print(\"congratulation your grade is B\")\n",
        "  print(\"your percenatage is\" ,percentage)\n",
        "else:\n",
        "  print(\"sorry to say but you are fail \")\n",
        "\n",
        "\n",
        "\n",
        "\n",
        "print(\"best wishes for you\")\n",
        "print(\" Board authority\")\\"
      ]
    },
    {
      "cell_type": "code",
      "source": [
        "# Add two number problem\n",
        "x=10\n",
        "y=40\n",
        "print(x+y)\n"
      ],
      "metadata": {
        "colab": {
          "base_uri": "https://localhost:8080/",
          "height": 0
        },
        "id": "4du-6HwARw9O",
        "outputId": "0f0cf636-a66c-47c9-dbdd-0a6fecc013db"
      },
      "execution_count": 1,
      "outputs": [
        {
          "output_type": "stream",
          "name": "stdout",
          "text": [
            "50\n"
          ]
        }
      ]
    },
    {
      "cell_type": "code",
      "source": [
        "#All algo problem\n",
        "x=(2+3-5+(8*9)/2+5)\n",
        "print(x)"
      ],
      "metadata": {
        "colab": {
          "base_uri": "https://localhost:8080/",
          "height": 0
        },
        "id": "6kJCgbkxSCLS",
        "outputId": "9ff13c40-8ee7-4cfa-cf11-12384b361dd5"
      },
      "execution_count": 4,
      "outputs": [
        {
          "output_type": "stream",
          "name": "stdout",
          "text": [
            "41.0\n"
          ]
        }
      ]
    },
    {
      "cell_type": "code",
      "source": [
        "#Area of circle \n",
        "x=int(input(\"aradius of circle\"))\n",
        "y=2*3.14*x\n",
        "print(\"area of the circle\"  ,y)\n",
        "\n"
      ],
      "metadata": {
        "colab": {
          "base_uri": "https://localhost:8080/",
          "height": 0
        },
        "id": "8T_-90YzSnEy",
        "outputId": "844901e8-4029-4228-f2b8-405897f31ff9"
      },
      "execution_count": 15,
      "outputs": [
        {
          "output_type": "stream",
          "name": "stdout",
          "text": [
            "aradius of circle90\n",
            "area of the circle 565.2\n"
          ]
        }
      ]
    },
    {
      "cell_type": "code",
      "source": [
        "#Area of square\n",
        "x=int(input(\"lenght of the square\"))\n",
        "y=x*x\n",
        "print(\"area of the square\" ,y)"
      ],
      "metadata": {
        "colab": {
          "base_uri": "https://localhost:8080/",
          "height": 0
        },
        "id": "cuPw02d3VOLO",
        "outputId": "f343467a-93e8-4ab8-ece9-9c9d79ffaea7"
      },
      "execution_count": 16,
      "outputs": [
        {
          "output_type": "stream",
          "name": "stdout",
          "text": [
            "lenght of the square10\n",
            "area of the square 100\n"
          ]
        }
      ]
    },
    {
      "cell_type": "code",
      "source": [
        "#Area of Rectangle\n",
        "x=float(input(\"lenght of the rectangle\"))\n",
        "y=float(input(\"bredth of the rectangle\"))\n",
        "z=2*x*y\n",
        "print(\"area of the rectangle\" ,z)"
      ],
      "metadata": {
        "colab": {
          "base_uri": "https://localhost:8080/",
          "height": 0
        },
        "id": "ny5OKZNtV0j5",
        "outputId": "4848db85-dcab-4bd8-b8e3-d91feda1f6ef"
      },
      "execution_count": 22,
      "outputs": [
        {
          "output_type": "stream",
          "name": "stdout",
          "text": [
            "lenght of the rectangle8.9\n",
            "bredth of the rectangle9.8\n",
            "area of the rectangle 174.44000000000003\n"
          ]
        }
      ]
    },
    {
      "cell_type": "code",
      "source": [
        "#simple intrest\n",
        "x=int(input(\"Principal \"))\n",
        "y=float(input(\"Rate \"))\n",
        "z=float(input(\"Time \"))\n",
        "v=(x*y*z)/100\n",
        "print(\"your simple intrest\" ,v)"
      ],
      "metadata": {
        "colab": {
          "base_uri": "https://localhost:8080/",
          "height": 0
        },
        "id": "eESltXdNXI8I",
        "outputId": "617d31d8-ce6c-45e6-c90a-e2f9831b6d05"
      },
      "execution_count": 25,
      "outputs": [
        {
          "output_type": "stream",
          "name": "stdout",
          "text": [
            "Principal 400000\n",
            "Rate 7.7\n",
            "Time 5\n",
            "your simple intrest 154000.0\n"
          ]
        }
      ]
    },
    {
      "cell_type": "code",
      "source": [
        "#compound intrest\n",
        "x=int(input(\"principal \"))\n",
        "y=float(input(\"Rate \"))\n",
        "z=float(input(\"Time \"))\n",
        "v=x*(1+y/100)**z\n",
        "print(\"your compound intrest\" ,v)"
      ],
      "metadata": {
        "colab": {
          "base_uri": "https://localhost:8080/",
          "height": 0
        },
        "id": "l1RN5Nl1YyM-",
        "outputId": "2192683c-911b-407d-fb63-7f043cb4e4ae"
      },
      "execution_count": 26,
      "outputs": [
        {
          "output_type": "stream",
          "name": "stdout",
          "text": [
            "principal 1000\n",
            "Rate 6\n",
            "Time 5.6\n",
            "your compound intrest 1385.8392121581057\n"
          ]
        }
      ]
    },
    {
      "cell_type": "code",
      "source": [
        "x=int(input(\"first number \"))\n",
        "y=int(input(\"second number \"))\n",
        "if x>y:\n",
        "  print(\"your first number is grater then\" ,y)\n",
        "else:\n",
        "  print(\"your second number is grater\")  "
      ],
      "metadata": {
        "colab": {
          "base_uri": "https://localhost:8080/",
          "height": 0
        },
        "id": "Dke3K8Y5aZts",
        "outputId": "abe477e9-5ed3-43ce-ea41-a68600e93eb8"
      },
      "execution_count": 29,
      "outputs": [
        {
          "output_type": "stream",
          "name": "stdout",
          "text": [
            "first number 100\n",
            "second number 60\n",
            "your first number is grater then 60\n"
          ]
        }
      ]
    },
    {
      "cell_type": "code",
      "source": [
        "# leap year \n",
        "x=int(input(\"your year \"))\n",
        "y=int(input(\"feb month \"))\n",
        "if y==28:\n",
        "  print(\"this year is not a leap year \")\n",
        "  if y<28:\n",
        "   print(\"this is not a leap year \")\n",
        "elif y==29:\n",
        "  print(\"this is lip year \")\n",
        "else:\n",
        "  print(\"please put a valid data \")"
      ],
      "metadata": {
        "colab": {
          "base_uri": "https://localhost:8080/",
          "height": 0
        },
        "id": "KLtCttVNcxqj",
        "outputId": "432c5629-ca0b-4fe2-f138-437397d66b68"
      },
      "execution_count": 40,
      "outputs": [
        {
          "output_type": "stream",
          "name": "stdout",
          "text": [
            "your year 2900\n",
            "feb month 28\n",
            "this year is not a lip year \n"
          ]
        }
      ]
    },
    {
      "cell_type": "code",
      "source": [
        "#7 is divisible or not\n",
        "x=int(input(\"your Number \"))\n",
        "if x%7==0:\n",
        "  print(\"your number is divisible by 7 \")\n",
        "else:\n",
        "  print(\"your number is not divisible by 7 \")"
      ],
      "metadata": {
        "colab": {
          "base_uri": "https://localhost:8080/",
          "height": 0
        },
        "id": "TzgOEpPChU6g",
        "outputId": "d71f8b82-ba27-4af2-bf87-737b9d4fba39"
      },
      "execution_count": 42,
      "outputs": [
        {
          "output_type": "stream",
          "name": "stdout",
          "text": [
            "your Number 89\n",
            "your number is not divisible by 7 \n"
          ]
        }
      ]
    },
    {
      "cell_type": "code",
      "source": [
        "#Number is odd or even\n",
        "x=int(input(\"your number \"))\n",
        "if x%2==0:\n",
        "  print(\"your number is even \")\n",
        "else:\n",
        "  print(\"your number is odd \")"
      ],
      "metadata": {
        "colab": {
          "base_uri": "https://localhost:8080/",
          "height": 0
        },
        "id": "nc88L6SZijQ7",
        "outputId": "e2e84e1c-6663-40e1-a85a-590a4df5bc0b"
      },
      "execution_count": 46,
      "outputs": [
        {
          "output_type": "stream",
          "name": "stdout",
          "text": [
            "your number 1\n",
            "your number is odd \n"
          ]
        }
      ]
    },
    {
      "cell_type": "code",
      "source": [
        "#check the number is 5 multiple or not\n",
        "x=int(input(\"your number \"))\n",
        "if x%5==0:\n",
        "  print(\"hello\")\n",
        "else:\n",
        "  print(\"bye\")"
      ],
      "metadata": {
        "colab": {
          "base_uri": "https://localhost:8080/",
          "height": 0
        },
        "id": "_JGExRMLj58R",
        "outputId": "07f3b9cc-7a8b-4e9f-89b1-1424739bd989"
      },
      "execution_count": 47,
      "outputs": [
        {
          "output_type": "stream",
          "name": "stdout",
          "text": [
            "your number 90\n",
            "hello\n"
          ]
        }
      ]
    },
    {
      "cell_type": "code",
      "source": [
        "#check the candidate is eligible or not for vote accept thair age\n",
        "#Please corroct it. it is wrong \n",
        "x=input(\"name of the candidate \")\n",
        "y=int(input(\"year of the birth of  candidate \"))\n",
        "z=int(input(\"month of the birth of condidate \"))\n",
        "v=int(input(\"date of the condidate\"))\n",
        "if y>=18:\n",
        "  print(\"you are eligible for vote \")\n",
        "  if z>12:\n",
        "    print(\"please maintaioned a valid month \")\n",
        "    if v>31:\n",
        "      print(\"please maintaioned a valid date \")\n",
        "elif y<18:\n",
        "  print(\"you are not eligible for vote \")"
      ],
      "metadata": {
        "colab": {
          "base_uri": "https://localhost:8080/",
          "height": 0
        },
        "id": "bBDkyOeanR65",
        "outputId": "a310a3c8-4c8f-4849-f540-9469b9b1b1a1"
      },
      "execution_count": 51,
      "outputs": [
        {
          "output_type": "stream",
          "name": "stdout",
          "text": [
            "name of the candidate vishal\n",
            "year of the birth of  candidate 2002\n",
            "month of the birth of condidate 3\n",
            "date of the condidate3\n",
            "you are eligible for vote \n"
          ]
        }
      ]
    },
    {
      "cell_type": "code",
      "source": [],
      "metadata": {
        "id": "VfVA2LdxsfYr"
      },
      "execution_count": null,
      "outputs": []
    },
    {
      "cell_type": "code",
      "execution_count": 52,
      "metadata": {
        "colab": {
          "base_uri": "https://localhost:8080/",
          "height": 0
        },
        "outputId": "fe2bd9b2-e792-4c51-f1fc-e2a8101f185b",
        "id": "PMqLjN9osgYh"
      },
      "outputs": [
        {
          "output_type": "stream",
          "name": "stdout",
          "text": [
            "student name vivek kumar\n",
            "student class 10\n",
            "student roll no 10\n",
            "your marks in hindi 80\n",
            "your marks in english 95\n",
            "your marks in maths 95\n",
            "your marks in science 80\n",
            "your marks in social science 80\n",
            "congratulations your grade is B\n",
            "your percentage is 86\n",
            "best wishes for you\n",
            " Board authority\n"
          ]
        }
      ],
      "source": [
        "#Report card problem\n",
        "\n",
        "student_name=input(\"student name \")\n",
        "student_class=int(input(\"student class \"))\n",
        "student_roll_no=int(input(\"student roll no \"))\n",
        "hindi=int(input(\"your marks in hindi \"))\n",
        "english=int(input(\"your marks in english \"))\n",
        "maths=int(input(\"your marks in maths \"))\n",
        "science=int(input(\"your marks in science \"))\n",
        "social_science=int(input(\"your marks in social science \"))\n",
        "obtained_marks=int(hindi+english+maths+science+social_science)\n",
        "percentage=int(obtained_marks/5)\n",
        "if percentage>=90:\n",
        "  print(\"congratulations your grade is A\")\n",
        "  print(\"your percentage is\" ,percentage)\n",
        "elif percentage>80 and percentage<=90:\n",
        "  print(\"congratulations your grade is B\")\n",
        "  print(\"your percentage is\" ,percentage )\n",
        "elif percentage>=60 and percentage<=80:\n",
        "  print(\"congratulation your grade is C\")\n",
        "  print(\"your percenatage is\" ,percentage)\n",
        "else:\n",
        "  print(\"congratulation your grade is D \")\n",
        "  print(\"your percentage is\" ,percenatage)\n",
        "\n",
        "\n",
        "\n",
        "\n",
        "print(\"best wishes for you\")\n",
        "print(\" Board authority\")\\"
      ]
    }
  ]
}