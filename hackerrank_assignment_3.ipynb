{
  "nbformat": 4,
  "nbformat_minor": 0,
  "metadata": {
    "colab": {
      "provenance": [],
      "authorship_tag": "ABX9TyP22CEkEwYIEVhkRx4YNUIA",
      "include_colab_link": true
    },
    "kernelspec": {
      "name": "python3",
      "display_name": "Python 3"
    },
    "language_info": {
      "name": "python"
    }
  },
  "cells": [
    {
      "cell_type": "markdown",
      "metadata": {
        "id": "view-in-github",
        "colab_type": "text"
      },
      "source": [
        "<a href=\"https://colab.research.google.com/github/Vishalvermaimv/Vishalvermaimv/blob/main/hackerrank_assignment_3.ipynb\" target=\"_parent\"><img src=\"https://colab.research.google.com/assets/colab-badge.svg\" alt=\"Open In Colab\"/></a>"
      ]
    },
    {
      "cell_type": "code",
      "source": [
        "#PROBLEM 1:ITERTOOLS AND COMBINATIONS PROBLEMS\n",
        "\n",
        "# Enter your code here. Read input from STDIN. Print output to STDOUT\n",
        "from itertools import combinations as combi\n",
        "s ,k =input().split()\n",
        "for i in range(1,int(k)+1):\n",
        "    \n",
        "    print(\"\\n\".join(list(map(\"\".join,(combi(sorted(s),i))))))\n"
      ],
      "metadata": {
        "id": "Q78ZAB02CoOX"
      },
      "execution_count": null,
      "outputs": []
    },
    {
      "cell_type": "code",
      "source": [
        "#PROBLEM 2:\n",
        "\n",
        "# Enter your code here. Read input from STDIN. Print output to STDOUT\n",
        "from itertools import product\n",
        "A =input().split()\n",
        "B =input().split()\n",
        "C =map(int,A)\n",
        "D =map(int,B)\n",
        "for i in list(product(C,D)):\n",
        "    print(i, end=\" \")\n"
      ],
      "metadata": {
        "id": "QNcZfJogCoq4"
      },
      "execution_count": null,
      "outputs": []
    }
  ]
}