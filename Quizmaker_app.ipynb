{
 "cells": [
  {
   "cell_type": "code",
   "execution_count": 14,
   "metadata": {},
   "outputs": [
    {
     "name": "stdout",
     "output_type": "stream",
     "text": [
      "you got 10 out of Questions  10\n"
     ]
    }
   ],
   "source": [
    "\n",
    "import random\n",
    "from QuizQuestions import question_prompt\n",
    "class Question:\n",
    "    def __init__(self,prompt,answer):\n",
    "        self.prompt = prompt\n",
    "        self.answer = answer\n",
    "\n",
    "\n",
    "\n",
    "questions = [\n",
    "    Question(question_prompt[0],\"a\"),\n",
    "    Question(question_prompt[1],\"a\"),\n",
    "    Question(question_prompt[2],\"a\"),\n",
    "    Question(question_prompt[3],\"d\"),\n",
    "    Question(question_prompt[4],\"d\"),\n",
    "    Question(question_prompt[5],\"c\"),\n",
    "    Question(question_prompt[6],\"a\"),\n",
    "    Question(question_prompt[7],\"a\"),\n",
    "    Question(question_prompt[8],\"a\"),\n",
    "    Question(question_prompt[9],\"a\")\n",
    "]\n",
    "\n",
    "random.shuffle(questions)\n",
    "\n",
    "def run_quiz(questions):\n",
    "    score = 0\n",
    "    for question in questions:\n",
    "        answer = input(question.prompt)\n",
    "        if answer == question.answer:\n",
    "            score+=1\n",
    "    print(\"you got\",score,\"out of Questions \",len(questions))\n",
    "\n",
    "run_quiz(questions)\n"
   ]
  }
 ],
 "metadata": {
  "kernelspec": {
   "display_name": "Python 3.10.7 64-bit",
   "language": "python",
   "name": "python3"
  },
  "language_info": {
   "codemirror_mode": {
    "name": "ipython",
    "version": 3
   },
   "file_extension": ".py",
   "mimetype": "text/x-python",
   "name": "python",
   "nbconvert_exporter": "python",
   "pygments_lexer": "ipython3",
   "version": "3.10.7"
  },
  "orig_nbformat": 4,
  "vscode": {
   "interpreter": {
    "hash": "aef80b6ac783f7042fbfc7f7228212085612e82dbe6ac48db8c348140cb084f4"
   }
  }
 },
 "nbformat": 4,
 "nbformat_minor": 2
}
