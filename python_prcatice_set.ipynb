{
  "nbformat": 4,
  "nbformat_minor": 0,
  "metadata": {
    "colab": {
      "provenance": [],
      "collapsed_sections": [],
      "authorship_tag": "ABX9TyM+UPEMO/vi6HaSnF9lB4f2",
      "include_colab_link": true
    },
    "kernelspec": {
      "name": "python3",
      "display_name": "Python 3"
    },
    "language_info": {
      "name": "python"
    }
  },
  "cells": [
    {
      "cell_type": "markdown",
      "metadata": {
        "id": "view-in-github",
        "colab_type": "text"
      },
      "source": [
        "<a href=\"https://colab.research.google.com/github/Vishalvermaimv/Vishalvermaimv/blob/main/python_prcatice_set.ipynb\" target=\"_parent\"><img src=\"https://colab.research.google.com/assets/colab-badge.svg\" alt=\"Open In Colab\"/></a>"
      ]
    },
    {
      "cell_type": "code",
      "execution_count": 8,
      "metadata": {
        "colab": {
          "base_uri": "https://localhost:8080/",
          "height": 0
        },
        "id": "LcvVC4DRGqFG",
        "outputId": "9a70682a-666d-407e-940f-cac4e0c2ad81"
      },
      "outputs": [
        {
          "output_type": "stream",
          "name": "stdout",
          "text": [
            "enter your gmail: vishalvermav2rr@gmail.com\n",
            "it is gmail\n"
          ]
        }
      ],
      "source": [
        "import re\n",
        "domain_name=input(\"enter your gmail: \")\n",
        "matcher = re.finditer(\"@\",domain_name)\n",
        "for i in matcher:\n",
        "  y=i.start()\n",
        "if domain_name[y+1:]==\"gmail.com\": \n",
        "    print(\"it is gmail\")\n",
        "else:\n",
        "    print(\"invalid\")"
      ]
    },
    {
      "cell_type": "code",
      "source": [
        "def is_even_or_odd(n):\n",
        "  if n%2==0:\n",
        "    return True\n",
        "\n",
        "\n",
        "x= [1,2,3,4,5,6,7,8,9,10]\n",
        "y=list(filter(is_even_or_odd,x))\n",
        "y"
      ],
      "metadata": {
        "colab": {
          "base_uri": "https://localhost:8080/",
          "height": 0
        },
        "id": "vuSqdoQ2LjDm",
        "outputId": "85e0a03b-f6b4-49fb-9a0f-752ffe05fee0"
      },
      "execution_count": 14,
      "outputs": [
        {
          "output_type": "execute_result",
          "data": {
            "text/plain": [
              "[2, 4, 6, 8, 10]"
            ]
          },
          "metadata": {},
          "execution_count": 14
        }
      ]
    },
    {
      "cell_type": "code",
      "source": [
        "def odd_no(n):\n",
        "  if n%2!=0:\n",
        "    return True\n",
        "l2=[]\n",
        "l1=[1,2,3,4,5,6,7,8,9,10]\n",
        "y=list(filter(odd_no,l1))\n",
        "l2.append(y)\n",
        "y"
      ],
      "metadata": {
        "colab": {
          "base_uri": "https://localhost:8080/",
          "height": 0
        },
        "id": "tAx9Yp-qSMCB",
        "outputId": "a3d69574-9081-4d5a-9fce-4f08e6f3a095"
      },
      "execution_count": 18,
      "outputs": [
        {
          "output_type": "execute_result",
          "data": {
            "text/plain": [
              "[1, 3, 5, 7, 9]"
            ]
          },
          "metadata": {},
          "execution_count": 18
        }
      ]
    },
    {
      "cell_type": "code",
      "source": [
        "def vowel(char):\n",
        "  x=\"a\",\"e\",\"i\",\"o\",\"u\"\n",
        "  if char == x:\n",
        "    return True\n",
        "char=input(\"enter the string\").lower\n",
        "list=[]\n",
        "y=char(filter(vowel,char))\n",
        "list.append(y)"
      ],
      "metadata": {
        "id": "gAvCNnXhUZPe"
      },
      "execution_count": null,
      "outputs": []
    },
    {
      "cell_type": "code",
      "source": [
        "x=[1000,2000,3000,4000,5000,9000,10000]\n",
        "y=list(map(lambda(x+2000:x<8000,x)))\n",
        "y"
      ],
      "metadata": {
        "id": "0oG4_TKDZbsk"
      },
      "execution_count": null,
      "outputs": []
    }
  ]
}