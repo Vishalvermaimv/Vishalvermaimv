{
  "nbformat": 4,
  "nbformat_minor": 0,
  "metadata": {
    "colab": {
      "provenance": [],
      "authorship_tag": "ABX9TyM6DfcmclJkYcKgv9GycE4m",
      "include_colab_link": true
    },
    "kernelspec": {
      "name": "python3",
      "display_name": "Python 3"
    },
    "language_info": {
      "name": "python"
    }
  },
  "cells": [
    {
      "cell_type": "markdown",
      "metadata": {
        "id": "view-in-github",
        "colab_type": "text"
      },
      "source": [
        "<a href=\"https://colab.research.google.com/github/Vishalvermaimv/Vishalvermaimv/blob/main/hackerrank_rest_problems.ipynb\" target=\"_parent\"><img src=\"https://colab.research.google.com/assets/colab-badge.svg\" alt=\"Open In Colab\"/></a>"
      ]
    },
    {
      "cell_type": "code",
      "execution_count": null,
      "metadata": {
        "id": "kCS9rxMV1S3E"
      },
      "outputs": [],
      "source": [
        "#HACKERANK ASSIGNMENT 5: QUESTION NO 2\n",
        "\n",
        "import xml.etree.ElementTree as etree\n",
        "\n",
        "maxdepth = 0\n",
        "def depth(elem, level):\n",
        "    global maxdepth\n",
        "    # your code goes here\n",
        "    \n",
        "    level += 1\n",
        "    \n",
        "    if level > maxdepth:\n",
        "        maxdepth = level\n",
        "    \n",
        "    for each in elem:\n",
        "        depth(each, level)    \n",
        "    \n",
        "    level -= 1\n",
        "if __name__ == '__main__':\n",
        "    n = int(input())\n",
        "    xml = \"\"\n",
        "    for i in range(n):\n",
        "        xml =  xml + input() + \"\\n\"\n",
        "    tree = etree.ElementTree(etree.fromstring(xml))\n",
        "    depth(tree.getroot(), -1)\n",
        "    print(maxdepth)"
      ]
    },
    {
      "cell_type": "code",
      "source": [
        "# HACKERRANK ASSIGNMENT 4: QUESTION NO 2\n",
        "\n",
        "import math\n",
        "from math import sqrt\n",
        "class Points(object):\n",
        "    def __init__(self, x, y, z):\n",
        "        self.x = x\n",
        "        self.y = y\n",
        "        self.z = z\n",
        "\n",
        "    def __sub__(self, no):\n",
        "        return Points(self.x - no.x,\n",
        "                      self.y - no.y,\n",
        "                      self.z - no.z)\n",
        "\n",
        "    def dot(self, no):\n",
        "        return self.x * no.x + self.y * no.y + self.z * no.z\n",
        "\n",
        "    def cross(self, no):\n",
        "        return Points(self.y * no.z - self.z * no.y,\n",
        "                      self.z * no.x - self.x * no.z,\n",
        "                      self.x * no.y - self.y * no.x)\n",
        "\n",
        "    def absolute(self):\n",
        "        return sqrt((self.x ** 2 + self.y ** 2 + self.z ** 2))\n",
        "\n",
        "if __name__ == '__main__':\n",
        "    points = list()\n",
        "    for i in range(4):\n",
        "        a = list(map(float, input().split()))\n",
        "        points.append(a)\n",
        "\n",
        "    a, b, c, d = Points(*points[0]), Points(*points[1]), Points(*points[2]), Points(*points[3])\n",
        "    x = (b - a).cross(c - b)\n",
        "    y = (c - b).cross(d - c)\n",
        "    angle = math.acos(x.dot(y) / (x.absolute() * y.absolute()))\n",
        "\n",
        "    print(\"%.2f\" % math.degrees(angle))"
      ],
      "metadata": {
        "id": "ZN_SGtz61uv-"
      },
      "execution_count": null,
      "outputs": []
    },
    {
      "cell_type": "code",
      "source": [
        "# HACKERRANK ASSIGNMENT 3: QUESTION NO 3\n",
        "\n",
        "from itertools import permutations\n",
        "s, k = input().split()\n",
        "[print(\"\".join(i)) for i in sorted(permutations(s,int(k)))]"
      ],
      "metadata": {
        "id": "VUdMhfvU5oUm"
      },
      "execution_count": null,
      "outputs": []
    },
    {
      "cell_type": "code",
      "source": [
        "# HACKERRANK ASSIGNMENT 2: QUESTION NO 7\n",
        "\n",
        "Regex_Pattern = r\"^\\d\\w{4}\\.$\"\t# Do not delete 'r'.\n",
        "\n",
        "import re\n",
        "\n",
        "print(str(bool(re.search(Regex_Pattern, input()))).lower())"
      ],
      "metadata": {
        "id": "TSyMrRGB7MXT"
      },
      "execution_count": null,
      "outputs": []
    }
  ]
}