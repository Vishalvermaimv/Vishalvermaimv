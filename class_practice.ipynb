{
  "nbformat": 4,
  "nbformat_minor": 0,
  "metadata": {
    "colab": {
      "provenance": [],
      "authorship_tag": "ABX9TyPU7OADtqzVW5wpsTMal1cE",
      "include_colab_link": true
    },
    "kernelspec": {
      "name": "python3",
      "display_name": "Python 3"
    },
    "language_info": {
      "name": "python"
    }
  },
  "cells": [
    {
      "cell_type": "markdown",
      "metadata": {
        "id": "view-in-github",
        "colab_type": "text"
      },
      "source": [
        "<a href=\"https://colab.research.google.com/github/Vishalvermaimv/Vishalvermaimv/blob/main/class_practice.ipynb\" target=\"_parent\"><img src=\"https://colab.research.google.com/assets/colab-badge.svg\" alt=\"Open In Colab\"/></a>"
      ]
    },
    {
      "cell_type": "code",
      "execution_count": 2,
      "metadata": {
        "colab": {
          "base_uri": "https://localhost:8080/"
        },
        "id": "LFTbyISHWx6p",
        "outputId": "e53d64fb-94b0-487d-d15d-6b55e4fc9b7f"
      },
      "outputs": [
        {
          "output_type": "execute_result",
          "data": {
            "text/plain": [
              "2"
            ]
          },
          "metadata": {},
          "execution_count": 2
        }
      ],
      "source": [
        "s=\"vishalverma\"\n",
        "s.count(\"a\")"
      ]
    },
    {
      "cell_type": "code",
      "source": [
        "v=\"vishalvermavishalvishalvermavishalverma\"\n",
        "print(v.count(\"vishal\",0,40)) # in given string to find the sub string how many time present.\n",
        "v1=v.replace(\"vishal\",\"imvverma\") #simply replace the word as per your requirement.\n",
        "print(v1)\n",
        "print(v.split( ))"
      ],
      "metadata": {
        "colab": {
          "base_uri": "https://localhost:8080/"
        },
        "id": "WyYVSWUdYE94",
        "outputId": "a05e7052-5230-49cf-9f14-fcedd11c7aa6"
      },
      "execution_count": 16,
      "outputs": [
        {
          "output_type": "stream",
          "name": "stdout",
          "text": [
            "4\n",
            "imvvermavermaimvvermaimvvermavermaimvvermaverma\n",
            "['vishalvermavishalvishalvermavishalverma']\n"
          ]
        }
      ]
    },
    {
      "cell_type": "code",
      "source": [
        "v=\"python is high level programing language\"\n",
        "print(v.split())\n",
        "v1=\" \".join(v)\n",
        "v1"
      ],
      "metadata": {
        "colab": {
          "base_uri": "https://localhost:8080/",
          "height": 52
        },
        "id": "JtOR7a8tb8Oo",
        "outputId": "0006dbe9-dc6a-4396-b2a2-2b76eb227626"
      },
      "execution_count": 21,
      "outputs": [
        {
          "output_type": "stream",
          "name": "stdout",
          "text": [
            "['python', 'is', 'high', 'level', 'programing', 'language']\n"
          ]
        },
        {
          "output_type": "execute_result",
          "data": {
            "text/plain": [
              "'p y t h o n   i s   h i g h   l e v e l   p r o g r a m i n g   l a n g u a g e'"
            ],
            "application/vnd.google.colaboratory.intrinsic+json": {
              "type": "string"
            }
          },
          "metadata": {},
          "execution_count": 21
        }
      ]
    },
    {
      "cell_type": "code",
      "source": [
        "v=[\"good\",\"evening\"] #join function basically used to covert  list into string\n",
        "v1=\" \".join(v)\n",
        "v1"
      ],
      "metadata": {
        "colab": {
          "base_uri": "https://localhost:8080/",
          "height": 35
        },
        "id": "Gm3VUUZjdJtk",
        "outputId": "b72c3eeb-4a07-4c9c-f732-8cb0e0717887"
      },
      "execution_count": 26,
      "outputs": [
        {
          "output_type": "execute_result",
          "data": {
            "text/plain": [
              "'good evening'"
            ],
            "application/vnd.google.colaboratory.intrinsic+json": {
              "type": "string"
            }
          },
          "metadata": {},
          "execution_count": 26
        }
      ]
    },
    {
      "cell_type": "code",
      "source": [
        "v=input(\"enter the number\")\n",
        "type(v)"
      ],
      "metadata": {
        "colab": {
          "base_uri": "https://localhost:8080/"
        },
        "id": "3G7Ox_EFeYM9",
        "outputId": "b2f6958b-313d-4b9f-dab2-45ebbb4bcdbe"
      },
      "execution_count": 27,
      "outputs": [
        {
          "name": "stdout",
          "output_type": "stream",
          "text": [
            "enter the number28\n"
          ]
        },
        {
          "output_type": "execute_result",
          "data": {
            "text/plain": [
              "str"
            ]
          },
          "metadata": {},
          "execution_count": 27
        }
      ]
    },
    {
      "cell_type": "code",
      "source": [
        "print(ord(\"v\"))\n",
        "print(ord(\"i\"))\n",
        "print(ord(\"s\"))\n",
        "print(ord(\"h\"))\n",
        "print(ord(\"a\"))\n",
        "print(ord(\"l\"))\n",
        "print(chr(7255))\n",
        "print(chr(90))"
      ],
      "metadata": {
        "colab": {
          "base_uri": "https://localhost:8080/"
        },
        "id": "hsWuss-ifzLS",
        "outputId": "2527a6af-6be3-498c-fac8-c13b32a09123"
      },
      "execution_count": 33,
      "outputs": [
        {
          "output_type": "stream",
          "name": "stdout",
          "text": [
            "118\n",
            "105\n",
            "115\n",
            "104\n",
            "97\n",
            "108\n",
            "᱗\n",
            "Z\n"
          ]
        }
      ]
    },
    {
      "cell_type": "code",
      "source": [
        "for i in range(97,123):\n",
        "  print(chr(i))"
      ],
      "metadata": {
        "colab": {
          "base_uri": "https://localhost:8080/"
        },
        "id": "Iq1RnNMtiUMB",
        "outputId": "75258147-7836-49ca-d5cd-42bd55cfe24b"
      },
      "execution_count": 41,
      "outputs": [
        {
          "output_type": "stream",
          "name": "stdout",
          "text": [
            "a\n",
            "b\n",
            "c\n",
            "d\n",
            "e\n",
            "f\n",
            "g\n",
            "h\n",
            "i\n",
            "j\n",
            "k\n",
            "l\n",
            "m\n",
            "n\n",
            "o\n",
            "p\n",
            "q\n",
            "r\n",
            "s\n",
            "t\n",
            "u\n",
            "v\n",
            "w\n",
            "x\n",
            "y\n",
            "z\n"
          ]
        }
      ]
    },
    {
      "cell_type": "code",
      "source": [
        "for i in range(65,92):\n",
        "   print(chr(i))"
      ],
      "metadata": {
        "colab": {
          "base_uri": "https://localhost:8080/"
        },
        "id": "u5tOCFLMjCya",
        "outputId": "87f9fdc9-9df3-45f9-a98d-e70c47ef631a"
      },
      "execution_count": 44,
      "outputs": [
        {
          "output_type": "stream",
          "name": "stdout",
          "text": [
            "A\n",
            "B\n",
            "C\n",
            "D\n",
            "E\n",
            "F\n",
            "G\n",
            "H\n",
            "I\n",
            "J\n",
            "K\n",
            "L\n",
            "M\n",
            "N\n",
            "O\n",
            "P\n",
            "Q\n",
            "R\n",
            "S\n",
            "T\n",
            "U\n",
            "V\n",
            "W\n",
            "X\n",
            "Y\n",
            "Z\n",
            "[\n"
          ]
        }
      ]
    },
    {
      "cell_type": "code",
      "source": [
        "x=input(\"enter the string\")\n",
        "for i in x:\n",
        "  print(ord(i),end=\" \")"
      ],
      "metadata": {
        "colab": {
          "base_uri": "https://localhost:8080/"
        },
        "id": "051ig_DNjU7n",
        "outputId": "1e752557-c142-4daa-a2b9-915849d9ad2c"
      },
      "execution_count": 48,
      "outputs": [
        {
          "output_type": "stream",
          "name": "stdout",
          "text": [
            "enter the stringvishal\n",
            "118 105 115 104 97 108 "
          ]
        }
      ]
    },
    {
      "cell_type": "code",
      "source": [
        "x=input(\"enter the string\")\n",
        "for i in x:\n",
        "  print(ord(i),end=\" \")"
      ],
      "metadata": {
        "colab": {
          "base_uri": "https://localhost:8080/"
        },
        "id": "0bSaTjQEnXiH",
        "outputId": "aa139c5a-ae08-4dd4-9b17-4a5f2442ae2e"
      },
      "execution_count": 49,
      "outputs": [
        {
          "output_type": "stream",
          "name": "stdout",
          "text": [
            "enter the stringapcd\n",
            "97 112 99 100 "
          ]
        }
      ]
    },
    {
      "cell_type": "code",
      "source": [],
      "metadata": {
        "id": "HHSu1vdWnZkE"
      },
      "execution_count": null,
      "outputs": []
    }
  ]
}