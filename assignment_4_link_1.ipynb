{
  "nbformat": 4,
  "nbformat_minor": 0,
  "metadata": {
    "colab": {
      "provenance": [],
      "authorship_tag": "ABX9TyOiuoYaLFuiuTodqk03bqes"
    },
    "kernelspec": {
      "name": "python3",
      "display_name": "Python 3"
    },
    "language_info": {
      "name": "python"
    }
  },
  "cells": [
    {
      "cell_type": "code",
      "execution_count": 5,
      "metadata": {
        "colab": {
          "base_uri": "https://localhost:8080/"
        },
        "id": "ae1VlzAZ5oH3",
        "outputId": "fa6c56a0-4e47-4bba-9606-32a6298cd85d"
      },
      "outputs": [
        {
          "output_type": "stream",
          "name": "stdout",
          "text": [
            "[35]\n"
          ]
        }
      ],
      "source": [
        "#write python program to create a lambda function that adds 25 to a given number passed in as an arguments.\n",
        "\n",
        "x=[10]\n",
        "\n",
        "l1=list(map(lambda n:n+25,x))\n",
        "print(l1)"
      ]
    }
  ]
}