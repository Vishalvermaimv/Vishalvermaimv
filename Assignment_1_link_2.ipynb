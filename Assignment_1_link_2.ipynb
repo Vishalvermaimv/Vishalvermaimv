{
  "nbformat": 4,
  "nbformat_minor": 0,
  "metadata": {
    "colab": {
      "provenance": [],
      "authorship_tag": "ABX9TyPs2LjvZXfyRhxDYCjRMUc0",
      "include_colab_link": true
    },
    "kernelspec": {
      "name": "python3",
      "display_name": "Python 3"
    },
    "language_info": {
      "name": "python"
    }
  },
  "cells": [
    {
      "cell_type": "markdown",
      "metadata": {
        "id": "view-in-github",
        "colab_type": "text"
      },
      "source": [
        "<a href=\"https://colab.research.google.com/github/Vishalvermaimv/Vishalvermaimv/blob/main/Assignment_1_link_2.ipynb\" target=\"_parent\"><img src=\"https://colab.research.google.com/assets/colab-badge.svg\" alt=\"Open In Colab\"/></a>"
      ]
    },
    {
      "cell_type": "code",
      "execution_count": 1,
      "metadata": {
        "colab": {
          "base_uri": "https://localhost:8080/",
          "height": 0
        },
        "id": "9VRBVsn--F8H",
        "outputId": "b44816b7-fef6-4ca9-e3d7-c21fa3c22c24"
      },
      "outputs": [
        {
          "output_type": "stream",
          "name": "stdout",
          "text": [
            "ym eman si lahsiv amrev\n"
          ]
        }
      ],
      "source": [
        "#Write a python program that accepts a word from the user and reverse it.\n",
        "string1 =str(\"my name is vishal verma\")\n",
        "words =string1.split()\n",
        "rev_string1 =[]\n",
        "for i in words:\n",
        "  rev_string1.append(i[: :-1])\n",
        "result =\" \".join(rev_string1)\n",
        "print(result)"
      ]
    }
  ]
}