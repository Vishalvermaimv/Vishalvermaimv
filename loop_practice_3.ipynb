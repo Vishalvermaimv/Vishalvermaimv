{
  "nbformat": 4,
  "nbformat_minor": 0,
  "metadata": {
    "colab": {
      "provenance": [],
      "authorship_tag": "ABX9TyN8mF/bd7qPsShrfRrW8J7r",
      "include_colab_link": true
    },
    "kernelspec": {
      "name": "python3",
      "display_name": "Python 3"
    },
    "language_info": {
      "name": "python"
    }
  },
  "cells": [
    {
      "cell_type": "markdown",
      "metadata": {
        "id": "view-in-github",
        "colab_type": "text"
      },
      "source": [
        "<a href=\"https://colab.research.google.com/github/Vishalvermaimv/Vishalvermaimv/blob/main/loop_practice_3.ipynb\" target=\"_parent\"><img src=\"https://colab.research.google.com/assets/colab-badge.svg\" alt=\"Open In Colab\"/></a>"
      ]
    },
    {
      "cell_type": "code",
      "execution_count": 11,
      "metadata": {
        "colab": {
          "base_uri": "https://localhost:8080/"
        },
        "id": "iezvKIwYXhbF",
        "outputId": "fac0022b-d4c9-47db-a701-a13f207c701b"
      },
      "outputs": [
        {
          "output_type": "stream",
          "name": "stdout",
          "text": [
            "enter the number: 154\n",
            "product of the number  20\n"
          ]
        }
      ],
      "source": [
        "#in python program to check the product of the digit\n",
        "#emaple 154=1*5*4=\n",
        "num=(input(\"enter the number: \"))\n",
        "prod=1\n",
        "for i in (num):\n",
        "    elc=int(i)\n",
        "    prod=prod*elc\n",
        "print(\"product of the number \",prod)\n"
      ]
    },
    {
      "cell_type": "code",
      "source": [
        "#using while loop find th eproduct of the digit\n",
        "num=int(input(\"enter the number: \"))\n",
        "prod=1\n",
        "while num!=0:\n",
        "  rem=num%10\n",
        "  print(\"reminder \",rem)\n",
        "  prod=prod*rem\n",
        "  num=num//10\n",
        "print(prod)"
      ],
      "metadata": {
        "colab": {
          "base_uri": "https://localhost:8080/"
        },
        "id": "N6RYLQM_dOg-",
        "outputId": "444d0ceb-8e65-44cb-9771-5d02f33d1435"
      },
      "execution_count": 13,
      "outputs": [
        {
          "output_type": "stream",
          "name": "stdout",
          "text": [
            "enter the number: 154\n",
            "reminder  4\n",
            "reminder  5\n",
            "reminder  1\n",
            "20\n"
          ]
        }
      ]
    },
    {
      "cell_type": "code",
      "source": [
        "#in python program find sum of squre n natural number\n",
        "num=int(input(\"enter the number: \"))\n",
        "sum=0\n",
        "for i in range(num+1):\n",
        "  sum=sum+i**2\n",
        "print(sum)"
      ],
      "metadata": {
        "colab": {
          "base_uri": "https://localhost:8080/"
        },
        "id": "wZSzvXD-f0zG",
        "outputId": "820ee7a0-a228-49e5-838e-e6abcb110028"
      },
      "execution_count": 18,
      "outputs": [
        {
          "output_type": "stream",
          "name": "stdout",
          "text": [
            "enter the number: 10\n",
            "385\n"
          ]
        }
      ]
    },
    {
      "cell_type": "code",
      "source": [
        "#in python program find sum of cube n natural number\n",
        "num=int(input(\"enter the number: \"))\n",
        "sum=0\n",
        "for i in range(num+1):\n",
        "  sum=sum+i**3\n",
        "print(sum)"
      ],
      "metadata": {
        "colab": {
          "base_uri": "https://localhost:8080/"
        },
        "id": "5rtgCvN8hqgZ",
        "outputId": "9a12410e-5015-4461-ade3-0ba589cfc979"
      },
      "execution_count": 22,
      "outputs": [
        {
          "output_type": "stream",
          "name": "stdout",
          "text": [
            "enter the number: 5\n",
            "225\n"
          ]
        }
      ]
    },
    {
      "cell_type": "code",
      "source": [
        "#find the sum of odd and even\n",
        "odd_no=0\n",
        "even_no=0\n",
        "num=int(input(\"enter the number\"))\n",
        "for i in range(1,num+1):\n",
        "  if i%2==0:\n",
        "    even_no=even_no+i\n",
        "  else:\n",
        "    odd_no=odd_no+i\n",
        "print(\"total sum of odd number \",odd_no )\n",
        "print(\"total sum of even number \",even_no)"
      ],
      "metadata": {
        "colab": {
          "base_uri": "https://localhost:8080/"
        },
        "id": "ZSO8dnfLkGLe",
        "outputId": "3e5c847d-7768-4998-9e73-4e987f44f8e6"
      },
      "execution_count": 28,
      "outputs": [
        {
          "output_type": "stream",
          "name": "stdout",
          "text": [
            "enter the number50\n",
            "total sum of odd number  625\n",
            "total sum of even number  650\n"
          ]
        }
      ]
    },
    {
      "cell_type": "code",
      "source": [
        "num=int(input(\"enter the number: \"))\n",
        "even=0\n",
        "odd=0\n",
        "for i in range(1,num+1):\n",
        "  if i%2==0:\n",
        "    even=even+1\n",
        "  else:\n",
        "    odd=odd+1\n",
        "print(even)\n",
        "print(odd)"
      ],
      "metadata": {
        "colab": {
          "base_uri": "https://localhost:8080/"
        },
        "id": "FJtajHYlmDb0",
        "outputId": "2714d9d0-092e-4357-a7cb-73dd3a42c20d"
      },
      "execution_count": 30,
      "outputs": [
        {
          "output_type": "stream",
          "name": "stdout",
          "text": [
            "enter the number: 20\n",
            "10\n",
            "10\n"
          ]
        }
      ]
    },
    {
      "cell_type": "code",
      "source": [
        "for i in range(100,500):\n",
        "  if i%11==0  and i%2!=0:\n",
        "    print(i)"
      ],
      "metadata": {
        "colab": {
          "base_uri": "https://localhost:8080/"
        },
        "id": "re5BmDkhm4iu",
        "outputId": "2eea146e-f312-411c-e46c-a3c53bbe2ee6"
      },
      "execution_count": 34,
      "outputs": [
        {
          "output_type": "stream",
          "name": "stdout",
          "text": [
            "121\n",
            "143\n",
            "165\n",
            "187\n",
            "209\n",
            "231\n",
            "253\n",
            "275\n",
            "297\n",
            "319\n",
            "341\n",
            "363\n",
            "385\n",
            "407\n",
            "429\n",
            "451\n",
            "473\n",
            "495\n"
          ]
        }
      ]
    },
    {
      "cell_type": "code",
      "source": [
        "for i in range(1,20):\n",
        "  if i%2!=0 and i%3!=0:\n",
        "    print(i)"
      ],
      "metadata": {
        "colab": {
          "base_uri": "https://localhost:8080/"
        },
        "id": "mvK6G8KRndaD",
        "outputId": "756d78f6-4d2e-4168-b612-375b5fcd3d2b"
      },
      "execution_count": 36,
      "outputs": [
        {
          "output_type": "stream",
          "name": "stdout",
          "text": [
            "1\n",
            "5\n",
            "7\n",
            "11\n",
            "13\n",
            "17\n",
            "19\n"
          ]
        }
      ]
    },
    {
      "cell_type": "code",
      "source": [
        "num=int(input(\"enter the number\"))\n",
        "for i in range (1,num):\n",
        "  if num%i==0:\n",
        "    print(i)"
      ],
      "metadata": {
        "colab": {
          "base_uri": "https://localhost:8080/"
        },
        "id": "gNdKkfNYotoq",
        "outputId": "7ac22757-c69e-4667-c117-2a3578cb5b7e"
      },
      "execution_count": 38,
      "outputs": [
        {
          "output_type": "stream",
          "name": "stdout",
          "text": [
            "enter the number8\n",
            "1\n",
            "2\n",
            "4\n"
          ]
        }
      ]
    }
  ]
}