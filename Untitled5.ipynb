{
  "nbformat": 4,
  "nbformat_minor": 0,
  "metadata": {
    "colab": {
      "provenance": [],
      "authorship_tag": "ABX9TyMRXQ2eELGofXjQPcMSE1/k",
      "include_colab_link": true
    },
    "kernelspec": {
      "name": "python3",
      "display_name": "Python 3"
    },
    "language_info": {
      "name": "python"
    }
  },
  "cells": [
    {
      "cell_type": "markdown",
      "metadata": {
        "id": "view-in-github",
        "colab_type": "text"
      },
      "source": [
        "<a href=\"https://colab.research.google.com/github/Vishalvermaimv/Vishalvermaimv/blob/main/Untitled5.ipynb\" target=\"_parent\"><img src=\"https://colab.research.google.com/assets/colab-badge.svg\" alt=\"Open In Colab\"/></a>"
      ]
    },
    {
      "cell_type": "code",
      "execution_count": 3,
      "metadata": {
        "colab": {
          "base_uri": "https://localhost:8080/"
        },
        "id": "3-72gGD2BiYQ",
        "outputId": "b3bf5ecc-4f0d-4ecc-a593-945de597daf0"
      },
      "outputs": [
        {
          "output_type": "stream",
          "name": "stdout",
          "text": [
            "enter the strinAPCD\n",
            "280\n"
          ]
        }
      ],
      "source": [
        "sum=0\n",
        "x=input(\"enter the strin\")\n",
        "for i in x:\n",
        "  y=ord(i)\n",
        "  sum=sum+y\n",
        "print(sum)"
      ]
    },
    {
      "cell_type": "code",
      "source": [
        "x=\"helloworld\"\n",
        "print(x.isalpha())"
      ],
      "metadata": {
        "colab": {
          "base_uri": "https://localhost:8080/"
        },
        "id": "VABCCuAOC1Ui",
        "outputId": "3ab3e3ce-e0f9-4ff3-935f-7f0149501f38"
      },
      "execution_count": 4,
      "outputs": [
        {
          "output_type": "stream",
          "name": "stdout",
          "text": [
            "True\n"
          ]
        }
      ]
    },
    {
      "cell_type": "code",
      "source": [
        "x=\"helloworld\"\n",
        "print(x.upper())"
      ],
      "metadata": {
        "colab": {
          "base_uri": "https://localhost:8080/"
        },
        "id": "h1yJ8paiDERg",
        "outputId": "9c6bcf8d-6b33-4fc4-c335-91ad25634bab"
      },
      "execution_count": 10,
      "outputs": [
        {
          "output_type": "stream",
          "name": "stdout",
          "text": [
            "HELLOWORLD\n"
          ]
        }
      ]
    },
    {
      "cell_type": "code",
      "source": [
        "x=\"hello world\"\n",
        "sorted(x)"
      ],
      "metadata": {
        "colab": {
          "base_uri": "https://localhost:8080/"
        },
        "id": "Ht04QWZfDVE9",
        "outputId": "7bfa2c1d-0511-4076-9ac9-b8c7672bd4c6"
      },
      "execution_count": 12,
      "outputs": [
        {
          "output_type": "execute_result",
          "data": {
            "text/plain": [
              "[' ', 'd', 'e', 'h', 'l', 'l', 'l', 'o', 'o', 'r', 'w']"
            ]
          },
          "metadata": {},
          "execution_count": 12
        }
      ]
    },
    {
      "cell_type": "code",
      "source": [
        "#check the palindrom.\n",
        "string1=input(\"enter the original string\")\n",
        "reverse_string1=string1[::-1]\n",
        "print(reverse_string1)\n",
        "if string1==reverse_string1:\n",
        "  print(\"it is pallidrom\")\n",
        "else:\n",
        "  print(\"it not pallidrom\")"
      ],
      "metadata": {
        "colab": {
          "base_uri": "https://localhost:8080/"
        },
        "id": "BMpPFSNOEfbY",
        "outputId": "7021a4de-622b-4e9e-8ead-c9d65ecef3a7"
      },
      "execution_count": 20,
      "outputs": [
        {
          "output_type": "stream",
          "name": "stdout",
          "text": [
            "enter the original stringgood\n",
            "doog\n",
            "it not pallidrom\n"
          ]
        }
      ]
    },
    {
      "cell_type": "code",
      "source": [
        "#chek the Anangram\n",
        "string1=input().upper()\n",
        "string2=input().upper()\n",
        "if sorted(string1)==sorted(string2):\n",
        "  print(\"it is anangram\")\n",
        "else:\n",
        "  print(\"it is no anangram\")\n",
        "print(sorted(string1))\n",
        "print(sorted(string2))"
      ],
      "metadata": {
        "colab": {
          "base_uri": "https://localhost:8080/"
        },
        "id": "HtFPA5AiGb6I",
        "outputId": "52d9d6a5-372f-491d-a9a1-c15cf8061533"
      },
      "execution_count": 21,
      "outputs": [
        {
          "output_type": "stream",
          "name": "stdout",
          "text": [
            "silent\n",
            "listen\n",
            "it is anangram\n",
            "['E', 'I', 'L', 'N', 'S', 'T']\n",
            "['E', 'I', 'L', 'N', 'S', 'T']\n"
          ]
        }
      ]
    },
    {
      "cell_type": "code",
      "source": [
        "l=[]\n",
        "print(type(l))\n",
        "l=[1,2,3,4,5,6]\n",
        "print(type(l))\n",
        "l=list()\n",
        "print(type(l))"
      ],
      "metadata": {
        "colab": {
          "base_uri": "https://localhost:8080/"
        },
        "id": "_6FrhDlgIOmB",
        "outputId": "36cbd730-ba9d-4f04-cfd9-1adf0043c435"
      },
      "execution_count": 24,
      "outputs": [
        {
          "output_type": "stream",
          "name": "stdout",
          "text": [
            "<class 'list'>\n",
            "<class 'list'>\n",
            "<class 'list'>\n"
          ]
        }
      ]
    },
    {
      "cell_type": "code",
      "source": [
        "x=[10,20,30,40,50]\n",
        "print(x[1])\n",
        "print(x[::-1])\n",
        "print(x[::-3])\n",
        "print(x[10:9:])\n",
        "print(x[2:9])\n",
        "print(x[-5:-1:-2])\n",
        "print(x[-5:-1:2])\n",
        "print(x[1:-1:2])\n",
        "print(x[5:0:3])\n",
        "print(x[-5:-1:-2])\n",
        "print(x[-1:-9:1])\n",
        "print(x[2:3:9])\n"
      ],
      "metadata": {
        "colab": {
          "base_uri": "https://localhost:8080/"
        },
        "id": "9_mtADAhJdWE",
        "outputId": "be31b925-a35c-4d8c-bc8a-74d9adf1b8ca"
      },
      "execution_count": 25,
      "outputs": [
        {
          "output_type": "stream",
          "name": "stdout",
          "text": [
            "20\n",
            "[50, 40, 30, 20, 10]\n",
            "[50, 20]\n",
            "[]\n",
            "[30, 40, 50]\n",
            "[]\n",
            "[10, 30]\n",
            "[20, 40]\n",
            "[]\n",
            "[]\n",
            "[]\n",
            "[30]\n"
          ]
        }
      ]
    },
    {
      "cell_type": "code",
      "source": [],
      "metadata": {
        "id": "Vff6NuqyJdYA"
      },
      "execution_count": null,
      "outputs": []
    }
  ]
}