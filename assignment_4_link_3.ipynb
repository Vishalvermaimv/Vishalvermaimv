{
  "nbformat": 4,
  "nbformat_minor": 0,
  "metadata": {
    "colab": {
      "provenance": [],
      "authorship_tag": "ABX9TyPaB+vah651RwRFkXHdMkWJ",
      "include_colab_link": true
    },
    "kernelspec": {
      "name": "python3",
      "display_name": "Python 3"
    },
    "language_info": {
      "name": "python"
    }
  },
  "cells": [
    {
      "cell_type": "markdown",
      "metadata": {
        "id": "view-in-github",
        "colab_type": "text"
      },
      "source": [
        "<a href=\"https://colab.research.google.com/github/Vishalvermaimv/Vishalvermaimv/blob/main/assignment_4_link_3.ipynb\" target=\"_parent\"><img src=\"https://colab.research.google.com/assets/colab-badge.svg\" alt=\"Open In Colab\"/></a>"
      ]
    },
    {
      "cell_type": "code",
      "execution_count": 12,
      "metadata": {
        "colab": {
          "base_uri": "https://localhost:8080/"
        },
        "id": "XVHQmlXdDyBV",
        "outputId": "96809404-a79a-4b65-c682-c772c5b4c62e"
      },
      "outputs": [
        {
          "output_type": "stream",
          "name": "stdout",
          "text": [
            "4 5 2 9\n",
            "[16, 25, 4, 81]\n"
          ]
        }
      ],
      "source": [
        "# write a python program to  square  the elements of a list using map() function.\n",
        "x=[int(i) for i in input().split()]\n",
        "l1=list(map(lambda n:n**2,x))\n",
        "print(l1)"
      ]
    }
  ]
}