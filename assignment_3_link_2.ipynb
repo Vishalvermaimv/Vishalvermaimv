{
  "nbformat": 4,
  "nbformat_minor": 0,
  "metadata": {
    "colab": {
      "provenance": [],
      "collapsed_sections": [],
      "authorship_tag": "ABX9TyOk7466q4NystMMV+4eL7Ai",
      "include_colab_link": true
    },
    "kernelspec": {
      "name": "python3",
      "display_name": "Python 3"
    },
    "language_info": {
      "name": "python"
    }
  },
  "cells": [
    {
      "cell_type": "markdown",
      "metadata": {
        "id": "view-in-github",
        "colab_type": "text"
      },
      "source": [
        "<a href=\"https://colab.research.google.com/github/Vishalvermaimv/Vishalvermaimv/blob/main/assignment_3_link_2.ipynb\" target=\"_parent\"><img src=\"https://colab.research.google.com/assets/colab-badge.svg\" alt=\"Open In Colab\"/></a>"
      ]
    },
    {
      "cell_type": "code",
      "execution_count": 12,
      "metadata": {
        "colab": {
          "base_uri": "https://localhost:8080/"
        },
        "id": "EcZDAYQTBvZq",
        "outputId": "f549d4f3-2068-4f54-bffe-82bba9c7523c"
      },
      "outputs": [
        {
          "output_type": "stream",
          "name": "stdout",
          "text": [
            "enter the string: 1234abcd\n",
            "dcba4321\n"
          ]
        }
      ],
      "source": [
        "#write a paython program to reverse a string.\n",
        "\n",
        "def rvrs(string):\n",
        "   string=input(\"enter the string: \")\n",
        "   string1=string[::-1]\n",
        "   return string1\n",
        "print(rvrs(string))"
      ]
    }
  ]
}