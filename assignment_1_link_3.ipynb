{
  "nbformat": 4,
  "nbformat_minor": 0,
  "metadata": {
    "colab": {
      "provenance": [],
      "authorship_tag": "ABX9TyPnb/iRUoZvmKUFtp2Nabul",
      "include_colab_link": true
    },
    "kernelspec": {
      "name": "python3",
      "display_name": "Python 3"
    },
    "language_info": {
      "name": "python"
    }
  },
  "cells": [
    {
      "cell_type": "markdown",
      "metadata": {
        "id": "view-in-github",
        "colab_type": "text"
      },
      "source": [
        "<a href=\"https://colab.research.google.com/github/Vishalvermaimv/Vishalvermaimv/blob/main/assignment_1_link_3.ipynb\" target=\"_parent\"><img src=\"https://colab.research.google.com/assets/colab-badge.svg\" alt=\"Open In Colab\"/></a>"
      ]
    },
    {
      "cell_type": "code",
      "execution_count": 18,
      "metadata": {
        "colab": {
          "base_uri": "https://localhost:8080/",
          "height": 0
        },
        "id": "a9y5iW1nph_l",
        "outputId": "52a5d503-fdb5-4f9d-c073-0c87ddba4664"
      },
      "outputs": [
        {
          "output_type": "stream",
          "name": "stdout",
          "text": [
            "Total even number is 10\n",
            "Total odd number is 10\n"
          ]
        }
      ],
      "source": [
        "#Write a python program to count the number of even and odd number from a series of numbers.\n",
        "num=[1,2,3,4,5,6,7,8,9,10,11,12,13,14,15,16,17,18,19,20]\n",
        "even=0\n",
        "odd=0\n",
        "for i in num:\n",
        "  if not i%2:\n",
        "    even+=1\n",
        "  else:\n",
        "    odd+=1\n",
        "print(\"Total even number is\" ,even)\n",
        "print(\"Total odd number is\" , odd)"
      ]
    }
  ]
}