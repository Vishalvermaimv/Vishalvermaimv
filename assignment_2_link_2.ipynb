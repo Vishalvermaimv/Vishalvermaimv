{
  "nbformat": 4,
  "nbformat_minor": 0,
  "metadata": {
    "colab": {
      "provenance": [],
      "authorship_tag": "ABX9TyOhFresUpaCAAlkRjA45Fpy",
      "include_colab_link": true
    },
    "kernelspec": {
      "name": "python3",
      "display_name": "Python 3"
    },
    "language_info": {
      "name": "python"
    }
  },
  "cells": [
    {
      "cell_type": "markdown",
      "metadata": {
        "id": "view-in-github",
        "colab_type": "text"
      },
      "source": [
        "<a href=\"https://colab.research.google.com/github/Vishalvermaimv/Vishalvermaimv/blob/main/assignment_2_link_2.ipynb\" target=\"_parent\"><img src=\"https://colab.research.google.com/assets/colab-badge.svg\" alt=\"Open In Colab\"/></a>"
      ]
    },
    {
      "cell_type": "code",
      "execution_count": 23,
      "metadata": {
        "colab": {
          "base_uri": "https://localhost:8080/"
        },
        "id": "MxLKosgQB2nL",
        "outputId": "e7352321-d97a-45d7-9368-7fd9e47e9c4a"
      },
      "outputs": [
        {
          "output_type": "stream",
          "name": "stdout",
          "text": [
            "enter the first ASCII value of a: 97\n",
            "enter the last ASCII value of z: 122\n",
            "{'a': 97, 'b': 98, 'c': 99, 'd': 100, 'e': 101, 'f': 102, 'g': 103, 'h': 104, 'i': 105, 'j': 106, 'k': 107, 'l': 108, 'm': 109, 'n': 110, 'o': 111, 'p': 112, 'q': 113, 'r': 114, 's': 115, 't': 116, 'u': 117, 'v': 118, 'w': 119, 'x': 120, 'y': 121, 'z': 122}\n"
          ]
        }
      ],
      "source": [
        "#write a python program\n",
        "#To print a dictionary whose keys should be the alphabet from a-z and the value should be corresponding ASCII values.\n",
        "\n",
        "dictionary={}\n",
        "num1=int(input(\"enter the first ASCII value of a: \"))\n",
        "num2=int(input(\"enter the last ASCII value of z: \"))\n",
        "for i in range(num1,num2+1):\n",
        "  keys=chr(i)\n",
        "  values=ord(chr(i))\n",
        "  dictionary.update({keys:values})\n",
        "print(dictionary)"
      ]
    }
  ]
}