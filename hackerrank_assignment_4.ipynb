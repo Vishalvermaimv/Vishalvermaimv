{
  "nbformat": 4,
  "nbformat_minor": 0,
  "metadata": {
    "colab": {
      "provenance": [],
      "authorship_tag": "ABX9TyMtR20OFfzJxdZhKRScAOgp",
      "include_colab_link": true
    },
    "kernelspec": {
      "name": "python3",
      "display_name": "Python 3"
    },
    "language_info": {
      "name": "python"
    }
  },
  "cells": [
    {
      "cell_type": "markdown",
      "metadata": {
        "id": "view-in-github",
        "colab_type": "text"
      },
      "source": [
        "<a href=\"https://colab.research.google.com/github/Vishalvermaimv/Vishalvermaimv/blob/main/hackerrank_assignment_4.ipynb\" target=\"_parent\"><img src=\"https://colab.research.google.com/assets/colab-badge.svg\" alt=\"Open In Colab\"/></a>"
      ]
    },
    {
      "cell_type": "code",
      "source": [
        "#hacker Rank assignment 4:\n",
        "import math\n",
        "\n",
        "class Complex(object):\n",
        "    def __init__(self, real, imaginary):\n",
        "        self.real = real\n",
        "        self.imaginary = imaginary\n",
        "    def __add__(self, no):\n",
        "        real = self.real+no.real\n",
        "        imag = self.imaginary+no.imaginary\n",
        "        return Complex(real,imag)\n",
        "        \n",
        "    def __sub__(self, no):\n",
        "        real = self.real -no.real\n",
        "        imag = self.imaginary -no.imaginary\n",
        "        return Complex(real,imag)\n",
        "        \n",
        "    def __mul__(self, no):\n",
        "        real = (self.real*no.real)-(self.imaginary*no.imaginary)\n",
        "        imag = (self.real*no.imaginary)+(no.real*self.imaginary)\n",
        "        return Complex(real,imag)\n",
        "        \n",
        "\n",
        "    def __truediv__(self, no):\n",
        "        div = complex(self.real,self.imaginary)/complex(no.real,no.imaginary)\n",
        "        return Complex(div.real,div.imag)\n",
        "\n",
        "    def mod(self):\n",
        "        real = math.sqrt(pow(self.real,2)+pow(self.imaginary,2))\n",
        "        imag = 0\n",
        "        return Complex(real,imag)\n",
        "\n",
        "    def __str__(self):\n",
        "        if self.imaginary == 0:\n",
        "            result = \"%.2f+0.00i\" % (self.real)\n",
        "        elif self.real == 0:\n",
        "            if self.imaginary >= 0:\n",
        "                result = \"0.00+%.2fi\" % (self.imaginary)\n",
        "            else:\n",
        "                result = \"0.00-%.2fi\" % (abs(self.imaginary))\n",
        "        elif self.imaginary > 0:\n",
        "            result = \"%.2f+%.2fi\" % (self.real, self.imaginary)\n",
        "        else:\n",
        "            result = \"%.2f-%.2fi\" % (self.real, abs(self.imaginary))\n",
        "        return result\n",
        "\n",
        "if __name__ == '__main__':"
      ],
      "metadata": {
        "id": "2LqHINrtcIbY"
      },
      "execution_count": null,
      "outputs": []
    }
  ]
}