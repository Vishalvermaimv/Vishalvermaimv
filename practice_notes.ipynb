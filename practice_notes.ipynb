{
  "nbformat": 4,
  "nbformat_minor": 0,
  "metadata": {
    "colab": {
      "provenance": [],
      "collapsed_sections": [],
      "authorship_tag": "ABX9TyP5IND9gSw3xGUH9FqRx/Nz",
      "include_colab_link": true
    },
    "kernelspec": {
      "name": "python3",
      "display_name": "Python 3"
    },
    "language_info": {
      "name": "python"
    }
  },
  "cells": [
    {
      "cell_type": "markdown",
      "metadata": {
        "id": "view-in-github",
        "colab_type": "text"
      },
      "source": [
        "<a href=\"https://colab.research.google.com/github/Vishalvermaimv/Vishalvermaimv/blob/main/practice_notes.ipynb\" target=\"_parent\"><img src=\"https://colab.research.google.com/assets/colab-badge.svg\" alt=\"Open In Colab\"/></a>"
      ]
    },
    {
      "cell_type": "code",
      "execution_count": 21,
      "metadata": {
        "colab": {
          "base_uri": "https://localhost:8080/"
        },
        "id": "ZJZevB85WBCL",
        "outputId": "520a5249-cc0e-4f7c-fad6-b6acda796c17"
      },
      "outputs": [
        {
          "output_type": "stream",
          "name": "stdout",
          "text": [
            "enter the number: 5\n",
            "120\n"
          ]
        }
      ],
      "source": [
        "fact=1\n",
        "num=int(input(\"enter the number: \"))\n",
        "for i in range (1,num+1):\n",
        "  fact=fact*i\n",
        "print(fact)\n",
        "  "
      ]
    },
    {
      "cell_type": "code",
      "source": [
        "num=int(input(\"enter the number: \" ))\n",
        "fact=1\n",
        "i=1\n",
        "while i<(num+1):\n",
        "  fact=fact*i\n",
        "  i=i+1\n",
        "print(fact)"
      ],
      "metadata": {
        "colab": {
          "base_uri": "https://localhost:8080/"
        },
        "id": "nodeWnITZI15",
        "outputId": "26c09b5e-50bd-42a0-d9f2-ca7db422b4b7"
      },
      "execution_count": 20,
      "outputs": [
        {
          "output_type": "stream",
          "name": "stdout",
          "text": [
            "enter the number: 4\n",
            "24\n"
          ]
        }
      ]
    },
    {
      "cell_type": "code",
      "source": [
        "sum=0\n",
        "num=int(input(\"enter the number\"))\n",
        "for i in range(num+1):\n",
        "  sum=sum+i\n",
        "print(sum)"
      ],
      "metadata": {
        "colab": {
          "base_uri": "https://localhost:8080/"
        },
        "id": "U1Py6UEFanml",
        "outputId": "6e8a3acc-cfe5-47b6-fdbf-47d933dead31"
      },
      "execution_count": 24,
      "outputs": [
        {
          "output_type": "stream",
          "name": "stdout",
          "text": [
            "enter the number10\n",
            "55\n"
          ]
        }
      ]
    },
    {
      "cell_type": "code",
      "source": [
        "i=0\n",
        "sum=0\n",
        "num=int(input(\"enter the number: \"))\n",
        "while i<=num:\n",
        "  sum=sum+i\n",
        "  i=i+1\n",
        "print(sum)"
      ],
      "metadata": {
        "colab": {
          "base_uri": "https://localhost:8080/"
        },
        "id": "L3z-6mYjbyk3",
        "outputId": "75cc8a6f-1cb7-4280-e870-0271c25907fa"
      },
      "execution_count": 26,
      "outputs": [
        {
          "output_type": "stream",
          "name": "stdout",
          "text": [
            "enter the number: 10\n",
            "55\n"
          ]
        }
      ]
    },
    {
      "cell_type": "code",
      "source": [
        "num=int(input(\"enter the number: \"))\n",
        "for i in range(num+1):\n",
        "   if i==4:\n",
        "    print(\"break encounter\")\n",
        "    break\n",
        "   print(i)"
      ],
      "metadata": {
        "colab": {
          "base_uri": "https://localhost:8080/"
        },
        "id": "UD6AwRIzcbJL",
        "outputId": "845cc20d-dbf7-442e-b21b-eb0b87caefd5"
      },
      "execution_count": 33,
      "outputs": [
        {
          "output_type": "stream",
          "name": "stdout",
          "text": [
            "enter the number: 7\n",
            "0\n",
            "1\n",
            "2\n",
            "3\n",
            "break encounter\n"
          ]
        }
      ]
    },
    {
      "cell_type": "code",
      "source": [
        "num1=int(input(\"enter the num: \"))\n",
        "num2=int(input(\"enter the number: \"))\n",
        "for i in range(num1+1):\n",
        "  for j in range(num2+1):\n",
        "    if j==2:\n",
        "      print(\"break encounter\")\n",
        "      break\n",
        "    print(\"i value is \",i ,j)"
      ],
      "metadata": {
        "colab": {
          "base_uri": "https://localhost:8080/"
        },
        "id": "o4bBerL0eOQ2",
        "outputId": "58b9dd69-8466-4f2c-83c2-3e1502992820"
      },
      "execution_count": 36,
      "outputs": [
        {
          "output_type": "stream",
          "name": "stdout",
          "text": [
            "enter the num: 3\n",
            "enter the number: 3\n",
            "i value is  0 0\n",
            "i value is  0 1\n",
            "break encounter\n",
            "i value is  1 0\n",
            "i value is  1 1\n",
            "break encounter\n",
            "i value is  2 0\n",
            "i value is  2 1\n",
            "break encounter\n",
            "i value is  3 0\n",
            "i value is  3 1\n",
            "break encounter\n"
          ]
        }
      ]
    },
    {
      "cell_type": "code",
      "source": [
        "cart=[100,200,300,400,500]\n",
        "for item in cart:\n",
        "  if item>=400:\n",
        "    print(\"we cant purchesh this item\")\n",
        "    break\n",
        "  print(item)"
      ],
      "metadata": {
        "colab": {
          "base_uri": "https://localhost:8080/"
        },
        "id": "sQBbzirKgSf6",
        "outputId": "470b3a1d-e182-4edb-979d-56d1c335f5c6"
      },
      "execution_count": 40,
      "outputs": [
        {
          "output_type": "stream",
          "name": "stdout",
          "text": [
            "100\n",
            "200\n",
            "300\n",
            "we cant purchesh this item\n"
          ]
        }
      ]
    },
    {
      "cell_type": "code",
      "source": [
        "num=int(input(\"enter the number: \"))\n",
        "for i in range(num+1):\n",
        "  if i==4:\n",
        "    print(\"continue encounter\")\n",
        "    continue\n",
        "  print(i)"
      ],
      "metadata": {
        "colab": {
          "base_uri": "https://localhost:8080/"
        },
        "id": "ZF_vxpabhCn_",
        "outputId": "ee011714-3124-4b36-b3fe-8aca2ae693ec"
      },
      "execution_count": 42,
      "outputs": [
        {
          "output_type": "stream",
          "name": "stdout",
          "text": [
            "enter the number: 5\n",
            "0\n",
            "1\n",
            "2\n",
            "3\n",
            "continue encounter\n",
            "5\n"
          ]
        }
      ]
    },
    {
      "cell_type": "code",
      "source": [
        "num1=int(input(\"enter the number: \"))\n",
        "num2=int(input(\"enter the number: \"))\n",
        "for i in range (num1+1):\n",
        "  for j in range (num2+1):\n",
        "    if j==2:\n",
        "      print(\"continue encounter\")\n",
        "      continue\n",
        "    print(\"i value is \" , i ,j)"
      ],
      "metadata": {
        "colab": {
          "base_uri": "https://localhost:8080/"
        },
        "id": "gl1X-GNmhq0A",
        "outputId": "385c1800-f9c6-4486-9f36-02ad723562b3"
      },
      "execution_count": 44,
      "outputs": [
        {
          "output_type": "stream",
          "name": "stdout",
          "text": [
            "enter the number: 3\n",
            "enter the number: 3\n",
            "i value is  0 0\n",
            "i value is  0 1\n",
            "continue encounter\n",
            "i value is  0 3\n",
            "i value is  1 0\n",
            "i value is  1 1\n",
            "continue encounter\n",
            "i value is  1 3\n",
            "i value is  2 0\n",
            "i value is  2 1\n",
            "continue encounter\n",
            "i value is  2 3\n",
            "i value is  3 0\n",
            "i value is  3 1\n",
            "continue encounter\n",
            "i value is  3 3\n"
          ]
        }
      ]
    },
    {
      "cell_type": "code",
      "source": [
        "cart=[100,200,300,400,500]\n",
        "for item in cart:\n",
        "  if item==400:\n",
        "    print(\"item we can purchashe\")\n",
        "    continue\n",
        "  print(item)"
      ],
      "metadata": {
        "colab": {
          "base_uri": "https://localhost:8080/"
        },
        "id": "v61q_IxkgKWP",
        "outputId": "821edb3a-27a4-47f2-fdc6-29f5cfe32282"
      },
      "execution_count": 52,
      "outputs": [
        {
          "output_type": "stream",
          "name": "stdout",
          "text": [
            "100\n",
            "200\n",
            "300\n",
            "item we can purchashe\n",
            "500\n"
          ]
        }
      ]
    },
    {
      "cell_type": "code",
      "source": [
        "x=\"198\"\n",
        "for i in (x):\n",
        "  y=int(i)%10\n",
        "  print(y)"
      ],
      "metadata": {
        "colab": {
          "base_uri": "https://localhost:8080/"
        },
        "id": "FMzJW7Z6k8zd",
        "outputId": "e333b11e-31b3-426a-d1e3-ea65ea4ce5dc"
      },
      "execution_count": 58,
      "outputs": [
        {
          "output_type": "stream",
          "name": "stdout",
          "text": [
            "1\n",
            "9\n",
            "8\n"
          ]
        }
      ]
    },
    {
      "cell_type": "code",
      "source": [
        "x=[1,2,3,4,5,5]\n",
        "len(x)"
      ],
      "metadata": {
        "colab": {
          "base_uri": "https://localhost:8080/"
        },
        "id": "0PVUejUIned-",
        "outputId": "ebe1b802-fde4-42ba-9acc-56e7be839f45"
      },
      "execution_count": 61,
      "outputs": [
        {
          "output_type": "execute_result",
          "data": {
            "text/plain": [
              "6"
            ]
          },
          "metadata": {},
          "execution_count": 61
        }
      ]
    },
    {
      "cell_type": "code",
      "source": [
        "x=\"vishal verma\"\n",
        "for i in x:\n",
        "  print(i)"
      ],
      "metadata": {
        "colab": {
          "base_uri": "https://localhost:8080/"
        },
        "id": "EkppndN8n09q",
        "outputId": "0661e7cd-7afa-47fd-bee9-be112b8944bf"
      },
      "execution_count": 71,
      "outputs": [
        {
          "output_type": "stream",
          "name": "stdout",
          "text": [
            "v\n",
            "i\n",
            "s\n",
            "h\n",
            "a\n",
            "l\n",
            " \n",
            "v\n",
            "e\n",
            "r\n",
            "m\n",
            "a\n"
          ]
        }
      ]
    },
    {
      "cell_type": "code",
      "source": [
        "x=str(input(\"enter the number: \"))\n",
        "y=str(x)\n",
        "print(len(y))"
      ],
      "metadata": {
        "colab": {
          "base_uri": "https://localhost:8080/"
        },
        "id": "hHBdAq5KonvL",
        "outputId": "85203887-5bbe-44d5-fe2f-4d698af1da97"
      },
      "execution_count": 76,
      "outputs": [
        {
          "output_type": "stream",
          "name": "stdout",
          "text": [
            "enter the number: vishal verma \n",
            "13\n"
          ]
        }
      ]
    },
    {
      "cell_type": "code",
      "source": [
        "x=int(input(\"enter the number\"))\n",
        "count=0\n",
        "while x!=0:\n",
        "  x=x//10\n",
        "  count=count+1\n",
        "print(count)"
      ],
      "metadata": {
        "colab": {
          "base_uri": "https://localhost:8080/"
        },
        "id": "DYpCM7j4rq3V",
        "outputId": "98bc76a3-db42-493b-8108-22ba77e61711"
      },
      "execution_count": 77,
      "outputs": [
        {
          "output_type": "stream",
          "name": "stdout",
          "text": [
            "enter the number787\n",
            "3\n"
          ]
        }
      ]
    },
    {
      "cell_type": "code",
      "source": [
        "num=int(input(\"enter the the number: \"))\n",
        "sum=0\n",
        "m=num\n",
        "while num!=0:\n",
        "  new=num%10\n",
        "  print(new)\n",
        "  sum=sum+(new**3)\n",
        "  print(\"sum is \", sum)\n",
        "  print(\"num is \" ,num)\n",
        "  num=num//10\n",
        "print(num)\n",
        "print(\"original number is \",m)\n",
        "if m==sum:\n",
        "  print(\"armstrong number\")\n",
        "else:\n",
        "  print(\"not armstring number\")"
      ],
      "metadata": {
        "colab": {
          "base_uri": "https://localhost:8080/"
        },
        "id": "-GbD9RHLs4zd",
        "outputId": "23a26ed6-e6ef-4718-9a91-4289cd2124ec"
      },
      "execution_count": 79,
      "outputs": [
        {
          "output_type": "stream",
          "name": "stdout",
          "text": [
            "enter the the number: 153\n",
            "3\n",
            "sum is  27\n",
            "num is  153\n",
            "5\n",
            "sum is  152\n",
            "num is  15\n",
            "1\n",
            "sum is  153\n",
            "num is  1\n",
            "0\n",
            "original number is  153\n",
            "armstrong number\n"
          ]
        }
      ]
    }
  ]
}