{
  "nbformat": 4,
  "nbformat_minor": 0,
  "metadata": {
    "colab": {
      "provenance": [],
      "authorship_tag": "ABX9TyO6/hWZ4f5C73n7GmjKDaMB",
      "include_colab_link": true
    },
    "kernelspec": {
      "name": "python3",
      "display_name": "Python 3"
    },
    "language_info": {
      "name": "python"
    }
  },
  "cells": [
    {
      "cell_type": "markdown",
      "metadata": {
        "id": "view-in-github",
        "colab_type": "text"
      },
      "source": [
        "<a href=\"https://colab.research.google.com/github/Vishalvermaimv/Vishalvermaimv/blob/main/hackerrank_assignment_2.ipynb\" target=\"_parent\"><img src=\"https://colab.research.google.com/assets/colab-badge.svg\" alt=\"Open In Colab\"/></a>"
      ]
    },
    {
      "cell_type": "code",
      "source": [
        "#PEOBLEM 1: FIBONACCI NUMBER \n",
        "\n",
        "cube = lambda x:x**3\n",
        "\n",
        "def fibonacci(n):\n",
        "    x=0\n",
        "    y=1\n",
        "    for i in range(n):\n",
        "        z=x+y\n",
        "        yield x\n",
        "        x,y=y,z\n",
        "\n",
        "if __name__ == '__main__':\n",
        "    n = int(input())\n",
        "    print(list(map(cube, fibonacci(n))))"
      ],
      "metadata": {
        "id": "bpjt3kdHSQIW"
      },
      "execution_count": null,
      "outputs": []
    },
    {
      "cell_type": "code",
      "source": [
        "#PROBLEM 2: \n",
        "\n",
        "if __name__ == '__main__':\n",
        "    x = int(input())\n",
        "    y = int(input())\n",
        "    z = int(input())\n",
        "    n = int(input())\n",
        "    result=[[i,j,k] for i in range (x+1) for j in range (y+1) for k in range(z+1)\n",
        "    if sum([i,j,k]) !=n]\n",
        "    print(result)"
      ],
      "metadata": {
        "id": "2OZlJB5FSmcz"
      },
      "execution_count": null,
      "outputs": []
    },
    {
      "cell_type": "code",
      "source": [
        "#PROBLEM 3: \n",
        "\n",
        "Regex_Pattern = r'hackerrank+'\t# Do not delete 'r'.\n",
        "\n",
        "import re\n",
        "\n",
        "Test_String = input()\n",
        "\n",
        "match = re.findall(Regex_Pattern, Test_String)\n",
        "\n",
        "print(\"Number of matches :\", len(match))"
      ],
      "metadata": {
        "id": "r3u4BnRqHGYY"
      },
      "execution_count": null,
      "outputs": []
    },
    {
      "cell_type": "code",
      "source": [
        "#PROBLEM 4:\n",
        "\n",
        "Regex_Pattern = r\"\\d\\d\\D\\d\\d\\D\\d{4}\"\t# Do not delete 'r'.\n",
        "\n",
        "import re\n",
        "\n",
        "print(str(bool(re.search(Regex_Pattern, input()))).lower())"
      ],
      "metadata": {
        "id": "idTZ8hlgKJ6X"
      },
      "execution_count": null,
      "outputs": []
    },
    {
      "cell_type": "code",
      "source": [
        "#PROBLEM 5:\n",
        "\n",
        "Regex_Pattern = r'^[123][120][xs0][30Aa][xsu][.,]$'\t# Do not delete 'r'.\n",
        "\n",
        "import re\n",
        "\n",
        "print(str(bool(re.search(Regex_Pattern, input()))).lower())"
      ],
      "metadata": {
        "id": "rah7oYQHY43k"
      },
      "execution_count": null,
      "outputs": []
    },
    {
      "cell_type": "code",
      "source": [
        "#PROBLEM 6: \n",
        "\n",
        "Regex_Pattern = r'^[a-z][1-9][^a-z][^A-Z][A-Z]'\t# Do not delete 'r'.\n",
        "\n",
        "import re\n",
        "\n",
        "print(str(bool(re.search(Regex_Pattern, input()))).lower())"
      ],
      "metadata": {
        "id": "VnnmkSpJceSW"
      },
      "execution_count": null,
      "outputs": []
    }
  ]
}